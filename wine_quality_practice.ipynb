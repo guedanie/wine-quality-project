{
 "cells": [
  {
   "cell_type": "markdown",
   "metadata": {},
   "source": [
    "# Wine Quality Regression practice\n",
    "\n",
    "## Dataset\n",
    "\n",
    "https://www.kaggle.com/uciml/red-wine-quality-cortez-et-al-2009\n",
    "\n",
    "\n",
    "### Context \n",
    "\n",
    "This datasets is related to red variants of the Portuguese \"Vinho Verde\" wine. For more details, consult the reference [Cortez et al., 2009]. Due to privacy and logistic issues, only physicochemical (inputs) and sensory (the output) variables are available (e.g. there is no data about grape types, wine brand, wine selling price, etc.).\n",
    "\n",
    "Tips\n",
    "\n",
    "What might be an interesting thing to do, is aside from using regression modelling, is to set an arbitrary cutoff for your dependent variable (wine quality) at e.g. 7 or higher getting classified as 'good/1' and the remainder as 'not good/0'.\n",
    "This allows you to practice with hyper parameter tuning on e.g. decision tree algorithms looking at the ROC curve and the AUC value.\n",
    "Without doing any kind of feature engineering or overfitting you should be able to get an AUC of .88 (without even using random forest algorithm)\n",
    "\n",
    "KNIME is a great tool (GUI) that can be used for this.\n",
    "\n",
    "1 - File Reader (for csv) to linear correlation node and to interactive histogram for basic EDA.\n",
    "\n",
    "2- File Reader to 'Rule Engine Node' to turn the 10 point scale to dichtome variable (good wine and rest), the code to put in the rule engine is something like this:\n",
    "\n",
    "$quality$ > 6.5 => \"good\"\n",
    "TRUE => \"bad\" \n",
    "\n",
    "3- Rule Engine Node output to input of Column Filter node to filter out your original 10point feature (this prevent leaking)\n",
    "\n",
    "4- Column Filter Node output to input of Partitioning Node (your standard train/tes split, e.g. 75%/25%, choose 'random' or 'stratified')\n",
    "\n",
    "5- Partitioning Node train data split output to input of Train data split to input Decision Tree Learner node and \n",
    "\n",
    "6- Partitioning Node test data split output to input Decision Tree predictor Node\n",
    "\n",
    "7- Decision Tree learner Node output to input Decision Tree Node input\n",
    "\n",
    "8- Decision Tree output to input ROC Node.. (here you can evaluate your model base on AUC value)\n",
    "\n"
   ]
  },
  {
   "cell_type": "code",
   "execution_count": 1,
   "metadata": {},
   "outputs": [],
   "source": [
    "import pandas as pd\n",
    "import explore\n",
    "import feature_engineering\n",
    "import split_scale\n",
    "import model\n",
    "import statsmodels.api as sm\n",
    "import matplotlib.pyplot as plt \n",
    "from math import sqrt\n",
    "from scipy import stats\n",
    "from pydataset import data\n",
    "from sklearn.linear_model import LassoCV, LinearRegression\n",
    "from sklearn.feature_selection import RFE, SelectKBest, f_regression\n",
    "from sklearn.linear_model import LogisticRegression\n",
    "from sklearn.metrics import classification_report\n",
    "from sklearn.metrics import confusion_matrix\n",
    "from sklearn.metrics import accuracy_score, precision_score, recall_score\n",
    "from sklearn.tree import DecisionTreeClassifier\n",
    "from sklearn.tree import export_graphviz\n",
    "from sklearn.ensemble import RandomForestClassifier\n",
    "from sklearn.neighbors import KNeighborsClassifier\n",
    "from sklearn.metrics import explained_variance_score\n",
    "\n",
    "import seaborn as sns\n",
    "import evaluate\n",
    "import sklearn.metrics"
   ]
  },
  {
   "cell_type": "code",
   "execution_count": 2,
   "metadata": {},
   "outputs": [],
   "source": [
    "wines = pd.read_csv(\"wine-quality-red.csv\")"
   ]
  },
  {
   "cell_type": "code",
   "execution_count": 3,
   "metadata": {
    "scrolled": true
   },
   "outputs": [
    {
     "name": "stdout",
     "output_type": "stream",
     "text": [
      "<class 'pandas.core.frame.DataFrame'>\n",
      "RangeIndex: 1599 entries, 0 to 1598\n",
      "Data columns (total 12 columns):\n",
      "fixed acidity           1599 non-null float64\n",
      "volatile acidity        1599 non-null float64\n",
      "citric acid             1599 non-null float64\n",
      "residual sugar          1599 non-null float64\n",
      "chlorides               1599 non-null float64\n",
      "free sulfur dioxide     1599 non-null float64\n",
      "total sulfur dioxide    1599 non-null float64\n",
      "density                 1599 non-null float64\n",
      "pH                      1599 non-null float64\n",
      "sulphates               1599 non-null float64\n",
      "alcohol                 1599 non-null float64\n",
      "quality                 1599 non-null int64\n",
      "dtypes: float64(11), int64(1)\n",
      "memory usage: 150.0 KB\n"
     ]
    }
   ],
   "source": [
    "wines.info()"
   ]
  },
  {
   "cell_type": "markdown",
   "metadata": {},
   "source": [
    "Lucky, it seems there are no null values. Since the data comes from Kaggle, I will trust that it is clean data for now. "
   ]
  },
  {
   "cell_type": "markdown",
   "metadata": {},
   "source": [
    "We find that the data can use a little bit of feature engineering, as there is a relationship between `pH` and `fre.sulfur.dioxide`. If there is not enough $SO_2$ in wine then quality will deteriorate and higher `pH` require more `free.sulfur.dioxide`. "
   ]
  },
  {
   "cell_type": "code",
   "execution_count": 4,
   "metadata": {},
   "outputs": [],
   "source": [
    "wines[\"mso2\"] = wines[\"free sulfur dioxide\"] / (1 + 10** (wines.pH - 1.81))"
   ]
  },
  {
   "cell_type": "code",
   "execution_count": 5,
   "metadata": {
    "scrolled": false
   },
   "outputs": [
    {
     "data": {
      "text/plain": [
       "<matplotlib.axes._subplots.AxesSubplot at 0x1291bd310>"
      ]
     },
     "execution_count": 5,
     "metadata": {},
     "output_type": "execute_result"
    },
    {
     "data": {
      "image/png": "[encoded data removed]",
      "text/plain": [
       "<Figure size 432x288 with 1 Axes>"
      ]
     },
     "metadata": {
      "needs_background": "light"
     },
     "output_type": "display_data"
    }
   ],
   "source": [
    "sns.barplot(data=wines, x=\"quality\", y =\"mso2\")"
   ]
  },
  {
   "cell_type": "markdown",
   "metadata": {},
   "source": [
    "As we can see, there seems to be a trend where poor quality wine has a lower $SO_2$, probably because the quality has degraded. Better wines seem to have a higher `mso2`, which makes sense as the expected value of `mso2` for red wine is between 0.4 and 0.6"
   ]
  },
  {
   "cell_type": "markdown",
   "metadata": {},
   "source": [
    "## Split and Scale "
   ]
  },
  {
   "cell_type": "code",
   "execution_count": 6,
   "metadata": {},
   "outputs": [],
   "source": [
    "train, test = split_scale.split_my_df(wines)"
   ]
  },
  {
   "cell_type": "code",
   "execution_count": 7,
   "metadata": {},
   "outputs": [],
   "source": [
    "X_train = train.drop(columns=[\"quality\", \"fixed acidity\"])\n",
    "y_train = train[[\"quality\"]]\n",
    "X_test = test.drop(columns=[\"quality\", \"fixed acidity\"])\n",
    "y_test = test[[\"quality\"]]"
   ]
  },
  {
   "cell_type": "code",
   "execution_count": 8,
   "metadata": {
    "scrolled": false
   },
   "outputs": [
    {
     "data": {
      "text/html": [
       "<div>\n",
       "<style scoped>\n",
       "    .dataframe tbody tr th:only-of-type {\n",
       "        vertical-align: middle;\n",
       "    }\n",
       "\n",
       "    .dataframe tbody tr th {\n",
       "        vertical-align: top;\n",
       "    }\n",
       "\n",
       "    .dataframe thead th {\n",
       "        text-align: right;\n",
       "    }\n",
       "</style>\n",
       "<table border=\"1\" class=\"dataframe\">\n",
       "  <thead>\n",
       "    <tr style=\"text-align: right;\">\n",
       "      <th></th>\n",
       "      <th>fixed acidity</th>\n",
       "      <th>volatile acidity</th>\n",
       "      <th>citric acid</th>\n",
       "      <th>residual sugar</th>\n",
       "      <th>chlorides</th>\n",
       "      <th>free sulfur dioxide</th>\n",
       "      <th>total sulfur dioxide</th>\n",
       "      <th>density</th>\n",
       "      <th>pH</th>\n",
       "      <th>sulphates</th>\n",
       "      <th>alcohol</th>\n",
       "      <th>quality</th>\n",
       "      <th>mso2</th>\n",
       "    </tr>\n",
       "  </thead>\n",
       "  <tbody>\n",
       "    <tr>\n",
       "      <th>1076</th>\n",
       "      <td>9.9</td>\n",
       "      <td>0.32</td>\n",
       "      <td>0.56</td>\n",
       "      <td>2.0</td>\n",
       "      <td>0.073</td>\n",
       "      <td>3.0</td>\n",
       "      <td>8.0</td>\n",
       "      <td>0.99534</td>\n",
       "      <td>3.15</td>\n",
       "      <td>0.73</td>\n",
       "      <td>11.4</td>\n",
       "      <td>6</td>\n",
       "      <td>0.131133</td>\n",
       "    </tr>\n",
       "    <tr>\n",
       "      <th>847</th>\n",
       "      <td>7.4</td>\n",
       "      <td>0.68</td>\n",
       "      <td>0.16</td>\n",
       "      <td>1.8</td>\n",
       "      <td>0.078</td>\n",
       "      <td>12.0</td>\n",
       "      <td>39.0</td>\n",
       "      <td>0.99770</td>\n",
       "      <td>3.50</td>\n",
       "      <td>0.70</td>\n",
       "      <td>9.9</td>\n",
       "      <td>6</td>\n",
       "      <td>0.240106</td>\n",
       "    </tr>\n",
       "    <tr>\n",
       "      <th>582</th>\n",
       "      <td>11.7</td>\n",
       "      <td>0.49</td>\n",
       "      <td>0.49</td>\n",
       "      <td>2.2</td>\n",
       "      <td>0.083</td>\n",
       "      <td>5.0</td>\n",
       "      <td>15.0</td>\n",
       "      <td>1.00000</td>\n",
       "      <td>3.19</td>\n",
       "      <td>0.43</td>\n",
       "      <td>9.2</td>\n",
       "      <td>5</td>\n",
       "      <td>0.200093</td>\n",
       "    </tr>\n",
       "    <tr>\n",
       "      <th>172</th>\n",
       "      <td>8.0</td>\n",
       "      <td>0.42</td>\n",
       "      <td>0.17</td>\n",
       "      <td>2.0</td>\n",
       "      <td>0.073</td>\n",
       "      <td>6.0</td>\n",
       "      <td>18.0</td>\n",
       "      <td>0.99720</td>\n",
       "      <td>3.29</td>\n",
       "      <td>0.61</td>\n",
       "      <td>9.2</td>\n",
       "      <td>6</td>\n",
       "      <td>0.192311</td>\n",
       "    </tr>\n",
       "    <tr>\n",
       "      <th>779</th>\n",
       "      <td>7.1</td>\n",
       "      <td>0.52</td>\n",
       "      <td>0.03</td>\n",
       "      <td>2.6</td>\n",
       "      <td>0.076</td>\n",
       "      <td>21.0</td>\n",
       "      <td>92.0</td>\n",
       "      <td>0.99745</td>\n",
       "      <td>3.50</td>\n",
       "      <td>0.60</td>\n",
       "      <td>9.8</td>\n",
       "      <td>5</td>\n",
       "      <td>0.420186</td>\n",
       "    </tr>\n",
       "  </tbody>\n",
       "</table>\n",
       "</div>"
      ],
      "text/plain": [
       "      fixed acidity  volatile acidity  citric acid  residual sugar  chlorides  \\\n",
       "1076            9.9              0.32         0.56             2.0      0.073   \n",
       "847             7.4              0.68         0.16             1.8      0.078   \n",
       "582            11.7              0.49         0.49             2.2      0.083   \n",
       "172             8.0              0.42         0.17             2.0      0.073   \n",
       "779             7.1              0.52         0.03             2.6      0.076   \n",
       "\n",
       "      free sulfur dioxide  total sulfur dioxide  density    pH  sulphates  \\\n",
       "1076                  3.0                   8.0  0.99534  3.15       0.73   \n",
       "847                  12.0                  39.0  0.99770  3.50       0.70   \n",
       "582                   5.0                  15.0  1.00000  3.19       0.43   \n",
       "172                   6.0                  18.0  0.99720  3.29       0.61   \n",
       "779                  21.0                  92.0  0.99745  3.50       0.60   \n",
       "\n",
       "      alcohol  quality      mso2  \n",
       "1076     11.4        6  0.131133  \n",
       "847       9.9        6  0.240106  \n",
       "582       9.2        5  0.200093  \n",
       "172       9.2        6  0.192311  \n",
       "779       9.8        5  0.420186  "
      ]
     },
     "execution_count": 8,
     "metadata": {},
     "output_type": "execute_result"
    }
   ],
   "source": [
    "train.head()"
   ]
  },
  {
   "cell_type": "markdown",
   "metadata": {},
   "source": [
    "## Explore"
   ]
  },
  {
   "cell_type": "code",
   "execution_count": 9,
   "metadata": {
    "scrolled": false
   },
   "outputs": [
    {
     "data": {
      "text/plain": [
       "<matplotlib.axes._subplots.AxesSubplot at 0x129e52190>"
      ]
     },
     "execution_count": 9,
     "metadata": {},
     "output_type": "execute_result"
    },
    {
     "data": {
      "image/png": "[encoded data removed]",
      "text/plain": [
       "<Figure size 432x288 with 2 Axes>"
      ]
     },
     "metadata": {
      "needs_background": "light"
     },
     "output_type": "display_data"
    }
   ],
   "source": [
    "sns.heatmap(train.corr(), annot=True)"
   ]
  },
  {
   "cell_type": "markdown",
   "metadata": {},
   "source": [
    "At this point, we notice that there are no variables that are highly correlated with our target variable. `alcohol` and `volatile acidity` seem to have the highest correlation. Luckuly, those two variables also don't seem to be too correlated with each other. "
   ]
  },
  {
   "cell_type": "code",
   "execution_count": 10,
   "metadata": {},
   "outputs": [
    {
     "data": {
      "text/plain": [
       "volatile acidity       -0.399479\n",
       "total sulfur dioxide   -0.201756\n",
       "density                -0.186942\n",
       "chlorides              -0.137099\n",
       "mso2                   -0.077723\n",
       "free sulfur dioxide    -0.072373\n",
       "pH                     -0.035631\n",
       "residual sugar          0.002350\n",
       "fixed acidity           0.104519\n",
       "citric acid             0.221081\n",
       "sulphates               0.251701\n",
       "alcohol                 0.479006\n",
       "quality                 1.000000\n",
       "Name: quality, dtype: float64"
      ]
     },
     "execution_count": 10,
     "metadata": {},
     "output_type": "execute_result"
    }
   ],
   "source": [
    "train.corr().quality.sort_values()"
   ]
  },
  {
   "cell_type": "code",
   "execution_count": 11,
   "metadata": {},
   "outputs": [
    {
     "data": {
      "text/plain": [
       "count    1279.000000\n",
       "mean        5.631744\n",
       "std         0.805668\n",
       "min         3.000000\n",
       "25%         5.000000\n",
       "50%         6.000000\n",
       "75%         6.000000\n",
       "max         8.000000\n",
       "Name: quality, dtype: float64"
      ]
     },
     "execution_count": 11,
     "metadata": {},
     "output_type": "execute_result"
    }
   ],
   "source": [
    "train.quality.describe()"
   ]
  },
  {
   "cell_type": "code",
   "execution_count": 12,
   "metadata": {},
   "outputs": [
    {
     "data": {
      "text/plain": [
       "<matplotlib.axes._subplots.AxesSubplot at 0x12a249e50>"
      ]
     },
     "execution_count": 12,
     "metadata": {},
     "output_type": "execute_result"
    },
    {
     "data": {
      "image/png": "[encoded data removed]",
      "text/plain": [
       "<Figure size 432x288 with 1 Axes>"
      ]
     },
     "metadata": {
      "needs_background": "light"
     },
     "output_type": "display_data"
    }
   ],
   "source": [
    "sns.distplot(train.quality, bins = 10)"
   ]
  },
  {
   "cell_type": "markdown",
   "metadata": {},
   "source": [
    "The data is fairly normally distributed - it seems that the majority of the values are between 5 and 6. "
   ]
  },
  {
   "cell_type": "code",
   "execution_count": 13,
   "metadata": {},
   "outputs": [
    {
     "name": "stdout",
     "output_type": "stream",
     "text": [
      "\n",
      "\n",
      "The difference between the mean 5.64 and median 6.00 is: \n",
      "\n",
      "-0.36\n",
      "\n",
      "This also supports the fact that the data is normally distributed.\n",
      " \n",
      "\n"
     ]
    }
   ],
   "source": [
    "print(f'''\n",
    "\n",
    "The difference between the mean {wines.quality.mean():.2f} and median {wines.quality.median():.2f} is: \n",
    "\n",
    "{wines.quality.mean() - wines.quality.median():.2f}\n",
    "\n",
    "This also supports the fact that the data is normally distributed.\n",
    " \n",
    "''')"
   ]
  },
  {
   "cell_type": "code",
   "execution_count": 14,
   "metadata": {
    "scrolled": true
   },
   "outputs": [
    {
     "data": {
      "text/plain": [
       "<matplotlib.axes._subplots.AxesSubplot at 0x12a3a67d0>"
      ]
     },
     "execution_count": 14,
     "metadata": {},
     "output_type": "execute_result"
    },
    {
     "data": {
      "image/png": "[encoded data removed]",
      "text/plain": [
       "<Figure size 432x288 with 1 Axes>"
      ]
     },
     "metadata": {
      "needs_background": "light"
     },
     "output_type": "display_data"
    }
   ],
   "source": [
    "sns.boxplot(x=\"quality\", y=\"alcohol\", data=wines)"
   ]
  },
  {
   "cell_type": "markdown",
   "metadata": {},
   "source": [
    "When we bin the values, and try to look at the alcohol distribution per quality bin, we actually see that there isn't as much of a difference, although higher quality wines are, on average, much higher alcohol content. An interesting observation is the fact that there are plently of outliers in the medium bin. This tells me that acohol alone is not enough of an indicator of quality."
   ]
  },
  {
   "cell_type": "code",
   "execution_count": 15,
   "metadata": {},
   "outputs": [
    {
     "data": {
      "text/plain": [
       "<matplotlib.axes._subplots.AxesSubplot at 0x12a4f9290>"
      ]
     },
     "execution_count": 15,
     "metadata": {},
     "output_type": "execute_result"
    },
    {
     "data": {
      "image/png": "[encoded data removed]",
      "text/plain": [
       "<Figure size 432x288 with 1 Axes>"
      ]
     },
     "metadata": {
      "needs_background": "light"
     },
     "output_type": "display_data"
    }
   ],
   "source": [
    "sns.boxplot(x= \"quality\", y = \"density\", data = wines)"
   ]
  },
  {
   "cell_type": "markdown",
   "metadata": {},
   "source": [
    "Density also has a high correlation, but in reality, it seems that there is not much difference in mean. At the same time there are a lot of outliers, which leads me to believe that the data is a bit skewed. Even though there is a negative correlation between these values, it doesn't seem to show too much in the bins. There does seem to be some outliers, but at the moment I will not remove them, because they are not too far from the upper and lower bounds."
   ]
  },
  {
   "cell_type": "code",
   "execution_count": 16,
   "metadata": {
    "scrolled": true
   },
   "outputs": [],
   "source": [
    "scaler, train_scaled, test_scaled = split_scale.min_max_scaler(X_train, X_test)"
   ]
  },
  {
   "cell_type": "markdown",
   "metadata": {},
   "source": [
    "## Feature Selection"
   ]
  },
  {
   "cell_type": "code",
   "execution_count": 17,
   "metadata": {
    "scrolled": true
   },
   "outputs": [
    {
     "name": "stdout",
     "output_type": "stream",
     "text": [
      "3 selected features\n",
      "['volatile acidity', 'chlorides', 'density']\n"
     ]
    }
   ],
   "source": [
    "feature_engineering.rfe(X_train, y_train,3)"
   ]
  },
  {
   "cell_type": "markdown",
   "metadata": {},
   "source": [
    "Using RFE for feature selection - we see that the top three choices are `volative_acidity`, `chlorides`, and `density`."
   ]
  },
  {
   "cell_type": "markdown",
   "metadata": {},
   "source": [
    "## Modeling with Linear Regression\n",
    "\n",
    "Since the target variable in this case is a number between 0 and 10, we will experiment using both linear regression and classification models, to see which are more effective."
   ]
  },
  {
   "cell_type": "code",
   "execution_count": 18,
   "metadata": {},
   "outputs": [],
   "source": [
    "assert(X_train.shape[0]) == y_train.shape[0]"
   ]
  },
  {
   "cell_type": "code",
   "execution_count": 19,
   "metadata": {},
   "outputs": [],
   "source": [
    "# We will be storing all the results of the models in a df, to make it easier to compare\n",
    "predictions = pd.DataFrame({'actual': y_train.quality})\n",
    "predictions[\"baseline\"] = y_train.quality.mean()"
   ]
  },
  {
   "cell_type": "code",
   "execution_count": 20,
   "metadata": {
    "scrolled": true
   },
   "outputs": [],
   "source": [
    "# Using RFE Suggestions\n",
    "\n",
    "X_1 = train_scaled[[\"volatile acidity\", \"density\", \"chlorides\"]]\n",
    "y_1 = y_train\n",
    "\n",
    "lm = LinearRegression().fit(X_1, y_1)\n",
    "predictions[\"density_volatile_acidity\"] = lm.predict(X_1)"
   ]
  },
  {
   "cell_type": "code",
   "execution_count": 21,
   "metadata": {},
   "outputs": [],
   "source": [
    "# Using all features\n",
    "\n",
    "X_2 = train_scaled\n",
    "y_2 = y_train\n",
    "\n",
    "lm = LinearRegression().fit(X_2, y_2)\n",
    "\n",
    "predictions[\"all_features\"] = lm.predict(X_2)"
   ]
  },
  {
   "cell_type": "code",
   "execution_count": 22,
   "metadata": {},
   "outputs": [
    {
     "data": {
      "text/html": [
       "<div>\n",
       "<style scoped>\n",
       "    .dataframe tbody tr th:only-of-type {\n",
       "        vertical-align: middle;\n",
       "    }\n",
       "\n",
       "    .dataframe tbody tr th {\n",
       "        vertical-align: top;\n",
       "    }\n",
       "\n",
       "    .dataframe thead th {\n",
       "        text-align: right;\n",
       "    }\n",
       "</style>\n",
       "<table border=\"1\" class=\"dataframe\">\n",
       "  <thead>\n",
       "    <tr style=\"text-align: right;\">\n",
       "      <th></th>\n",
       "      <th>actual</th>\n",
       "      <th>baseline</th>\n",
       "      <th>density_volatile_acidity</th>\n",
       "      <th>all_features</th>\n",
       "    </tr>\n",
       "  </thead>\n",
       "  <tbody>\n",
       "    <tr>\n",
       "      <th>1076</th>\n",
       "      <td>6</td>\n",
       "      <td>5.631744</td>\n",
       "      <td>6.112384</td>\n",
       "      <td>6.428037</td>\n",
       "    </tr>\n",
       "    <tr>\n",
       "      <th>847</th>\n",
       "      <td>6</td>\n",
       "      <td>5.631744</td>\n",
       "      <td>5.307547</td>\n",
       "      <td>5.271420</td>\n",
       "    </tr>\n",
       "    <tr>\n",
       "      <th>582</th>\n",
       "      <td>5</td>\n",
       "      <td>5.631744</td>\n",
       "      <td>5.474990</td>\n",
       "      <td>5.235818</td>\n",
       "    </tr>\n",
       "    <tr>\n",
       "      <th>172</th>\n",
       "      <td>6</td>\n",
       "      <td>5.631744</td>\n",
       "      <td>5.807063</td>\n",
       "      <td>5.482386</td>\n",
       "    </tr>\n",
       "    <tr>\n",
       "      <th>779</th>\n",
       "      <td>5</td>\n",
       "      <td>5.631744</td>\n",
       "      <td>5.609400</td>\n",
       "      <td>5.262947</td>\n",
       "    </tr>\n",
       "  </tbody>\n",
       "</table>\n",
       "</div>"
      ],
      "text/plain": [
       "      actual  baseline  density_volatile_acidity  all_features\n",
       "1076       6  5.631744                  6.112384      6.428037\n",
       "847        6  5.631744                  5.307547      5.271420\n",
       "582        5  5.631744                  5.474990      5.235818\n",
       "172        6  5.631744                  5.807063      5.482386\n",
       "779        5  5.631744                  5.609400      5.262947"
      ]
     },
     "execution_count": 22,
     "metadata": {},
     "output_type": "execute_result"
    }
   ],
   "source": [
    "predictions.head()"
   ]
  },
  {
   "cell_type": "code",
   "execution_count": 23,
   "metadata": {},
   "outputs": [
    {
     "data": {
      "text/plain": [
       "actual                      0.000000\n",
       "baseline                    0.648594\n",
       "density_volatile_acidity    0.519386\n",
       "all_features                0.410830\n",
       "dtype: float64"
      ]
     },
     "execution_count": 23,
     "metadata": {},
     "output_type": "execute_result"
    }
   ],
   "source": [
    "predictions.apply(lambda col: sklearn.metrics.mean_squared_error(predictions.actual, col))"
   ]
  },
  {
   "cell_type": "code",
   "execution_count": 24,
   "metadata": {},
   "outputs": [
    {
     "name": "stdout",
     "output_type": "stream",
     "text": [
      "\n",
      "Evaluate all key features: \n",
      "\n",
      "MSE = 0.41\n",
      "\n",
      "RMSE = 0.64\n",
      "\n",
      "R-square = 0.37\n",
      "\n"
     ]
    }
   ],
   "source": [
    "print(f'''\n",
    "Evaluate all key features: \n",
    "\n",
    "MSE = {sklearn.metrics.mean_squared_error(predictions.actual, predictions.all_features):.2}\n",
    "\n",
    "RMSE = {sqrt(sklearn.metrics.mean_squared_error(predictions.actual, predictions.all_features)):.2}\n",
    "\n",
    "R-square = {explained_variance_score(predictions.actual, predictions.all_features):.2f}\n",
    "'''\n",
    ")"
   ]
  },
  {
   "cell_type": "markdown",
   "metadata": {},
   "source": [
    "It seems we have a working model, that performs better than the RFE features, and the baseline. We will now see how the classification models work."
   ]
  },
  {
   "cell_type": "markdown",
   "metadata": {},
   "source": [
    "# Classification Models"
   ]
  },
  {
   "cell_type": "markdown",
   "metadata": {},
   "source": [
    "We will now use four different classification models to try to predict the quality of the wine. \n",
    "\n",
    "The models we will be using will be: \n",
    "\n",
    "1. Logistic Regression\n",
    "1. Decision Tree\n",
    "1. Random Forest\n",
    "1. K-Nearest Neighbors"
   ]
  },
  {
   "cell_type": "code",
   "execution_count": 25,
   "metadata": {},
   "outputs": [],
   "source": [
    "def return_values(scaler, train, validate, test):\n",
    "        train_scaled = pd.DataFrame(scaler.transform(train), columns=train.columns.values).set_index([train.index.values])\n",
    "        validate_scaled = pd.DataFrame(scaler.transform(validate), columns=validate.columns.values).set_index([validate.index.values])\n",
    "        test_scaled = pd.DataFrame(scaler.transform(test), columns=test.columns.values).set_index([test.index.values])\n",
    "        return scaler, train_scaled, validate_scaled, test_scaled\n",
    "\n",
    "def get_data_for_modeling():\n",
    "    # Data acquire and prep\n",
    "    wines = pd.read_csv(\"wine-quality-red.csv\")\n",
    "    wines[\"mso2\"] = wines[\"free sulfur dioxide\"] / (1 + 10** (wines.pH - 1.81))\n",
    "    wines = wines.drop(columns= \"fixed acidity\")\n",
    "    \n",
    "    # Data split\n",
    "    train, test = train_test_split(wines, random_state = 123, train_size=.8)\n",
    "    train, validate = train_test_split(train, random_state = 123, train_size=.75)\n",
    "    X_train = train.drop(columns=[\"quality\"])\n",
    "    y_train = train.quality\n",
    "    X_validate = validate.drop(columns=[\"quality\"])\n",
    "    y_validate = validate.quality\n",
    "    X_test = test.drop(columns=\"quality\")\n",
    "    y_test = test.quality\n",
    "    \n",
    "    # Data Scale\n",
    "    scaler = MinMaxScaler()\n",
    "    scaler.fit(X_train)\n",
    "    scaler, train_scaled, validate_scaled, test_scaled = return_values(scaler, X_train, X_validate, X_test)\n",
    "    \n",
    "    return train_scaled, y_train, validate_scaled, y_validate, test_scaled, y_test\n",
    "    "
   ]
  },
  {
   "cell_type": "markdown",
   "metadata": {},
   "source": [
    "In an effort to avoid data leakage, I have created a function above to let me pull and prep the data. This way, for every model I run, I can do it with \"clean data:"
   ]
  },
  {
   "cell_type": "markdown",
   "metadata": {},
   "source": [
    "## Logistic Regression"
   ]
  },
  {
   "cell_type": "code",
   "execution_count": 26,
   "metadata": {},
   "outputs": [],
   "source": [
    "from sklearn.model_selection import train_test_split\n",
    "from sklearn.linear_model import LogisticRegression\n",
    "from sklearn.metrics import classification_report\n",
    "from sklearn.metrics import confusion_matrix\n",
    "from sklearn.metrics import accuracy_score, precision_score, recall_score\n",
    "from sklearn.model_selection import train_test_split\n",
    "from sklearn.linear_model import LogisticRegression\n",
    "from sklearn.preprocessing import LabelEncoder, OneHotEncoder, MinMaxScaler"
   ]
  },
  {
   "cell_type": "code",
   "execution_count": 27,
   "metadata": {},
   "outputs": [],
   "source": [
    "# Model\n",
    "train_scaled, y_train, validate_scaled, y_validate, test_scaled, y_test = get_data_for_modeling()"
   ]
  },
  {
   "cell_type": "code",
   "execution_count": 28,
   "metadata": {},
   "outputs": [],
   "source": [
    "class_eval = pd.DataFrame({\"actual\": y_train, \"baseline\": 5})"
   ]
  },
  {
   "cell_type": "code",
   "execution_count": 29,
   "metadata": {},
   "outputs": [
    {
     "data": {
      "text/html": [
       "<div>\n",
       "<style scoped>\n",
       "    .dataframe tbody tr th:only-of-type {\n",
       "        vertical-align: middle;\n",
       "    }\n",
       "\n",
       "    .dataframe tbody tr th {\n",
       "        vertical-align: top;\n",
       "    }\n",
       "\n",
       "    .dataframe thead th {\n",
       "        text-align: right;\n",
       "    }\n",
       "</style>\n",
       "<table border=\"1\" class=\"dataframe\">\n",
       "  <thead>\n",
       "    <tr style=\"text-align: right;\">\n",
       "      <th></th>\n",
       "      <th>volatile acidity</th>\n",
       "      <th>citric acid</th>\n",
       "      <th>residual sugar</th>\n",
       "      <th>chlorides</th>\n",
       "      <th>free sulfur dioxide</th>\n",
       "      <th>total sulfur dioxide</th>\n",
       "      <th>density</th>\n",
       "      <th>pH</th>\n",
       "      <th>sulphates</th>\n",
       "      <th>alcohol</th>\n",
       "      <th>mso2</th>\n",
       "    </tr>\n",
       "  </thead>\n",
       "  <tbody>\n",
       "    <tr>\n",
       "      <th>981</th>\n",
       "      <td>0.506849</td>\n",
       "      <td>0.26</td>\n",
       "      <td>0.068966</td>\n",
       "      <td>0.111853</td>\n",
       "      <td>0.169014</td>\n",
       "      <td>0.077739</td>\n",
       "      <td>0.517621</td>\n",
       "      <td>0.401575</td>\n",
       "      <td>0.153374</td>\n",
       "      <td>0.285714</td>\n",
       "      <td>0.129035</td>\n",
       "    </tr>\n",
       "    <tr>\n",
       "      <th>1503</th>\n",
       "      <td>0.219178</td>\n",
       "      <td>0.39</td>\n",
       "      <td>0.110345</td>\n",
       "      <td>0.108514</td>\n",
       "      <td>0.070423</td>\n",
       "      <td>0.028269</td>\n",
       "      <td>0.402349</td>\n",
       "      <td>0.606299</td>\n",
       "      <td>0.196319</td>\n",
       "      <td>0.464286</td>\n",
       "      <td>0.027806</td>\n",
       "    </tr>\n",
       "    <tr>\n",
       "      <th>456</th>\n",
       "      <td>0.321918</td>\n",
       "      <td>0.39</td>\n",
       "      <td>0.096552</td>\n",
       "      <td>0.138564</td>\n",
       "      <td>0.056338</td>\n",
       "      <td>0.056537</td>\n",
       "      <td>0.626285</td>\n",
       "      <td>0.496063</td>\n",
       "      <td>0.128834</td>\n",
       "      <td>0.339286</td>\n",
       "      <td>0.032791</td>\n",
       "    </tr>\n",
       "    <tr>\n",
       "      <th>611</th>\n",
       "      <td>0.178082</td>\n",
       "      <td>0.55</td>\n",
       "      <td>0.124138</td>\n",
       "      <td>0.115192</td>\n",
       "      <td>0.056338</td>\n",
       "      <td>0.035336</td>\n",
       "      <td>0.773128</td>\n",
       "      <td>0.188976</td>\n",
       "      <td>0.104294</td>\n",
       "      <td>0.178571</td>\n",
       "      <td>0.087467</td>\n",
       "    </tr>\n",
       "    <tr>\n",
       "      <th>2</th>\n",
       "      <td>0.438356</td>\n",
       "      <td>0.04</td>\n",
       "      <td>0.096552</td>\n",
       "      <td>0.133556</td>\n",
       "      <td>0.197183</td>\n",
       "      <td>0.169611</td>\n",
       "      <td>0.508811</td>\n",
       "      <td>0.409449</td>\n",
       "      <td>0.171779</td>\n",
       "      <td>0.250000</td>\n",
       "      <td>0.146556</td>\n",
       "    </tr>\n",
       "  </tbody>\n",
       "</table>\n",
       "</div>"
      ],
      "text/plain": [
       "      volatile acidity  citric acid  residual sugar  chlorides  \\\n",
       "981           0.506849         0.26        0.068966   0.111853   \n",
       "1503          0.219178         0.39        0.110345   0.108514   \n",
       "456           0.321918         0.39        0.096552   0.138564   \n",
       "611           0.178082         0.55        0.124138   0.115192   \n",
       "2             0.438356         0.04        0.096552   0.133556   \n",
       "\n",
       "      free sulfur dioxide  total sulfur dioxide   density        pH  \\\n",
       "981              0.169014              0.077739  0.517621  0.401575   \n",
       "1503             0.070423              0.028269  0.402349  0.606299   \n",
       "456              0.056338              0.056537  0.626285  0.496063   \n",
       "611              0.056338              0.035336  0.773128  0.188976   \n",
       "2                0.197183              0.169611  0.508811  0.409449   \n",
       "\n",
       "      sulphates   alcohol      mso2  \n",
       "981    0.153374  0.285714  0.129035  \n",
       "1503   0.196319  0.464286  0.027806  \n",
       "456    0.128834  0.339286  0.032791  \n",
       "611    0.104294  0.178571  0.087467  \n",
       "2      0.171779  0.250000  0.146556  "
      ]
     },
     "execution_count": 29,
     "metadata": {},
     "output_type": "execute_result"
    }
   ],
   "source": [
    "train_scaled.head()"
   ]
  },
  {
   "cell_type": "code",
   "execution_count": 30,
   "metadata": {},
   "outputs": [],
   "source": [
    "logit = LogisticRegression().fit(train_scaled, y_train)\n",
    "class_eval[\"logistic_regression\"] = logit.predict(train_scaled)"
   ]
  },
  {
   "cell_type": "code",
   "execution_count": 31,
   "metadata": {
    "scrolled": true
   },
   "outputs": [
    {
     "data": {
      "text/plain": [
       "0.596875"
      ]
     },
     "execution_count": 31,
     "metadata": {},
     "output_type": "execute_result"
    }
   ],
   "source": [
    "# short eval:\n",
    "\n",
    "logit.score(validate_scaled, y_validate)"
   ]
  },
  {
   "cell_type": "code",
   "execution_count": 32,
   "metadata": {},
   "outputs": [
    {
     "data": {
      "text/html": [
       "<div>\n",
       "<style scoped>\n",
       "    .dataframe tbody tr th:only-of-type {\n",
       "        vertical-align: middle;\n",
       "    }\n",
       "\n",
       "    .dataframe tbody tr th {\n",
       "        vertical-align: top;\n",
       "    }\n",
       "\n",
       "    .dataframe thead th {\n",
       "        text-align: right;\n",
       "    }\n",
       "</style>\n",
       "<table border=\"1\" class=\"dataframe\">\n",
       "  <thead>\n",
       "    <tr style=\"text-align: right;\">\n",
       "      <th></th>\n",
       "      <th>3</th>\n",
       "      <th>4</th>\n",
       "      <th>5</th>\n",
       "      <th>6</th>\n",
       "      <th>7</th>\n",
       "      <th>8</th>\n",
       "    </tr>\n",
       "  </thead>\n",
       "  <tbody>\n",
       "    <tr>\n",
       "      <th>3</th>\n",
       "      <td>0</td>\n",
       "      <td>0</td>\n",
       "      <td>7</td>\n",
       "      <td>1</td>\n",
       "      <td>0</td>\n",
       "      <td>0</td>\n",
       "    </tr>\n",
       "    <tr>\n",
       "      <th>4</th>\n",
       "      <td>0</td>\n",
       "      <td>0</td>\n",
       "      <td>20</td>\n",
       "      <td>4</td>\n",
       "      <td>1</td>\n",
       "      <td>0</td>\n",
       "    </tr>\n",
       "    <tr>\n",
       "      <th>5</th>\n",
       "      <td>0</td>\n",
       "      <td>0</td>\n",
       "      <td>318</td>\n",
       "      <td>87</td>\n",
       "      <td>1</td>\n",
       "      <td>0</td>\n",
       "    </tr>\n",
       "    <tr>\n",
       "      <th>6</th>\n",
       "      <td>0</td>\n",
       "      <td>0</td>\n",
       "      <td>127</td>\n",
       "      <td>249</td>\n",
       "      <td>10</td>\n",
       "      <td>0</td>\n",
       "    </tr>\n",
       "    <tr>\n",
       "      <th>7</th>\n",
       "      <td>0</td>\n",
       "      <td>0</td>\n",
       "      <td>9</td>\n",
       "      <td>92</td>\n",
       "      <td>22</td>\n",
       "      <td>0</td>\n",
       "    </tr>\n",
       "    <tr>\n",
       "      <th>8</th>\n",
       "      <td>0</td>\n",
       "      <td>0</td>\n",
       "      <td>0</td>\n",
       "      <td>6</td>\n",
       "      <td>5</td>\n",
       "      <td>0</td>\n",
       "    </tr>\n",
       "  </tbody>\n",
       "</table>\n",
       "</div>"
      ],
      "text/plain": [
       "   3  4    5    6   7  8\n",
       "3  0  0    7    1   0  0\n",
       "4  0  0   20    4   1  0\n",
       "5  0  0  318   87   1  0\n",
       "6  0  0  127  249  10  0\n",
       "7  0  0    9   92  22  0\n",
       "8  0  0    0    6   5  0"
      ]
     },
     "execution_count": 32,
     "metadata": {},
     "output_type": "execute_result"
    }
   ],
   "source": [
    "labels = sorted(y_train.unique())\n",
    "\n",
    "pd.DataFrame(confusion_matrix(class_eval.actual, class_eval.logistic_regression), index = labels, columns = labels)"
   ]
  },
  {
   "cell_type": "markdown",
   "metadata": {},
   "source": [
    "If we adjust the probabilities - can we improve the accuracy?"
   ]
  },
  {
   "cell_type": "code",
   "execution_count": 33,
   "metadata": {
    "scrolled": false
   },
   "outputs": [
    {
     "data": {
      "text/plain": [
       "array([2.35824942e-018, 1.43765273e-044, 1.96107577e-012, ...,\n",
       "       2.75014301e-018, 5.21458242e-147, 1.05157774e-028])"
      ]
     },
     "execution_count": 33,
     "metadata": {},
     "output_type": "execute_result"
    }
   ],
   "source": [
    "logit.predict_proba(X_train)[:,0]"
   ]
  },
  {
   "cell_type": "markdown",
   "metadata": {},
   "source": [
    "## Decision Tree"
   ]
  },
  {
   "cell_type": "code",
   "execution_count": 34,
   "metadata": {},
   "outputs": [],
   "source": [
    "from sklearn.tree import DecisionTreeClassifier\n",
    "from sklearn.tree import export_graphviz\n",
    "from sklearn.metrics import classification_report\n",
    "from sklearn.metrics import confusion_matrix"
   ]
  },
  {
   "cell_type": "code",
   "execution_count": 35,
   "metadata": {},
   "outputs": [],
   "source": [
    "# acquire and prep\n",
    "train_scaled, y_train, validate_scaled, y_validate, test_scaled, y_test = get_data_for_modeling()"
   ]
  },
  {
   "cell_type": "markdown",
   "metadata": {},
   "source": [
    "For testing purposes, we will look at different values of `max_depth`."
   ]
  },
  {
   "cell_type": "code",
   "execution_count": 36,
   "metadata": {
    "scrolled": false
   },
   "outputs": [
    {
     "name": "stdout",
     "output_type": "stream",
     "text": [
      "Max_deph = 1, accuracy score = 57.19%\n",
      "Max_deph = 2, accuracy score = 56.88%\n",
      "Max_deph = 3, accuracy score = 60.31%\n",
      "Max_deph = 4, accuracy score = 59.69%\n",
      "Max_deph = 5, accuracy score = 57.81%\n",
      "Max_deph = 6, accuracy score = 58.44%\n",
      "Max_deph = 7, accuracy score = 60.31%\n",
      "Max_deph = 8, accuracy score = 58.13%\n",
      "Max_deph = 9, accuracy score = 56.56%\n",
      "Max_deph = 10, accuracy score = 60.31%\n",
      "Max_deph = 11, accuracy score = 60.31%\n",
      "Max_deph = 12, accuracy score = 59.69%\n",
      "Max_deph = 13, accuracy score = 60.31%\n",
      "Max_deph = 14, accuracy score = 58.44%\n",
      "Max_deph = 15, accuracy score = 58.13%\n",
      "Max_deph = 16, accuracy score = 59.38%\n",
      "Max_deph = 17, accuracy score = 59.38%\n",
      "Max_deph = 18, accuracy score = 59.38%\n",
      "Max_deph = 19, accuracy score = 59.38%\n"
     ]
    }
   ],
   "source": [
    "for i in range(1, 20):\n",
    "    clf = DecisionTreeClassifier(criterion='entropy', max_depth=i, random_state=123).fit(train_scaled, y_train)\n",
    "    score = clf.score(validate_scaled, y_validate)\n",
    "    print(f\"Max_deph = {i}, accuracy score = {score:.2%}\")"
   ]
  },
  {
   "cell_type": "markdown",
   "metadata": {},
   "source": [
    "Based on the score above, we see that the highest value we can get is about a 64.84% accuracy, which happens when the `max_depth` is 14."
   ]
  },
  {
   "cell_type": "code",
   "execution_count": 37,
   "metadata": {},
   "outputs": [],
   "source": [
    "clf = DecisionTreeClassifier(criterion='entropy', max_depth=14, random_state=123).fit(train_scaled, y_train)\n",
    "class_eval[\"decision_tree\"] = clf.predict(train_scaled)"
   ]
  },
  {
   "cell_type": "code",
   "execution_count": 38,
   "metadata": {
    "scrolled": true
   },
   "outputs": [
    {
     "name": "stdout",
     "output_type": "stream",
     "text": [
      "\n",
      "The train score is 0.9989572471324296\n",
      "The validate score is 0.584375\n",
      "The difference is -41.50%\n",
      "\n"
     ]
    }
   ],
   "source": [
    "# Short eval\n",
    "train_score = clf.score(train_scaled, y_train)\n",
    "\n",
    "validate_score = clf.score(validate_scaled, y_validate)\n",
    "\n",
    "print(f'''\n",
    "The train score is {train_score}\n",
    "The validate score is {validate_score}\n",
    "The difference is {(validate_score - train_score)/ train_score:.2%}\n",
    "''')"
   ]
  },
  {
   "cell_type": "code",
   "execution_count": 39,
   "metadata": {},
   "outputs": [
    {
     "data": {
      "text/html": [
       "<div>\n",
       "<style scoped>\n",
       "    .dataframe tbody tr th:only-of-type {\n",
       "        vertical-align: middle;\n",
       "    }\n",
       "\n",
       "    .dataframe tbody tr th {\n",
       "        vertical-align: top;\n",
       "    }\n",
       "\n",
       "    .dataframe thead th {\n",
       "        text-align: right;\n",
       "    }\n",
       "</style>\n",
       "<table border=\"1\" class=\"dataframe\">\n",
       "  <thead>\n",
       "    <tr style=\"text-align: right;\">\n",
       "      <th></th>\n",
       "      <th>3</th>\n",
       "      <th>4</th>\n",
       "      <th>5</th>\n",
       "      <th>6</th>\n",
       "      <th>7</th>\n",
       "      <th>8</th>\n",
       "    </tr>\n",
       "  </thead>\n",
       "  <tbody>\n",
       "    <tr>\n",
       "      <th>3</th>\n",
       "      <td>8</td>\n",
       "      <td>0</td>\n",
       "      <td>0</td>\n",
       "      <td>0</td>\n",
       "      <td>0</td>\n",
       "      <td>0</td>\n",
       "    </tr>\n",
       "    <tr>\n",
       "      <th>4</th>\n",
       "      <td>0</td>\n",
       "      <td>25</td>\n",
       "      <td>0</td>\n",
       "      <td>0</td>\n",
       "      <td>0</td>\n",
       "      <td>0</td>\n",
       "    </tr>\n",
       "    <tr>\n",
       "      <th>5</th>\n",
       "      <td>0</td>\n",
       "      <td>0</td>\n",
       "      <td>406</td>\n",
       "      <td>0</td>\n",
       "      <td>0</td>\n",
       "      <td>0</td>\n",
       "    </tr>\n",
       "    <tr>\n",
       "      <th>6</th>\n",
       "      <td>0</td>\n",
       "      <td>0</td>\n",
       "      <td>1</td>\n",
       "      <td>385</td>\n",
       "      <td>0</td>\n",
       "      <td>0</td>\n",
       "    </tr>\n",
       "    <tr>\n",
       "      <th>7</th>\n",
       "      <td>0</td>\n",
       "      <td>0</td>\n",
       "      <td>0</td>\n",
       "      <td>0</td>\n",
       "      <td>123</td>\n",
       "      <td>0</td>\n",
       "    </tr>\n",
       "    <tr>\n",
       "      <th>8</th>\n",
       "      <td>0</td>\n",
       "      <td>0</td>\n",
       "      <td>0</td>\n",
       "      <td>0</td>\n",
       "      <td>0</td>\n",
       "      <td>11</td>\n",
       "    </tr>\n",
       "  </tbody>\n",
       "</table>\n",
       "</div>"
      ],
      "text/plain": [
       "   3   4    5    6    7   8\n",
       "3  8   0    0    0    0   0\n",
       "4  0  25    0    0    0   0\n",
       "5  0   0  406    0    0   0\n",
       "6  0   0    1  385    0   0\n",
       "7  0   0    0    0  123   0\n",
       "8  0   0    0    0    0  11"
      ]
     },
     "execution_count": 39,
     "metadata": {},
     "output_type": "execute_result"
    }
   ],
   "source": [
    "labels = sorted(y_train.unique())\n",
    "\n",
    "pd.DataFrame(confusion_matrix(class_eval.actual, class_eval.decision_tree), index = labels, columns = labels)"
   ]
  },
  {
   "cell_type": "markdown",
   "metadata": {},
   "source": [
    "## Random Forest"
   ]
  },
  {
   "cell_type": "code",
   "execution_count": 40,
   "metadata": {},
   "outputs": [],
   "source": [
    "# acquire and prep\n",
    "train_scaled, y_train, validate_scaled, y_validate, test_scaled, y_test = get_data_for_modeling()"
   ]
  },
  {
   "cell_type": "code",
   "execution_count": 41,
   "metadata": {},
   "outputs": [
    {
     "name": "stdout",
     "output_type": "stream",
     "text": [
      "Max_deph = 1, accuracy score = 56.88%\n",
      "Max_deph = 2, accuracy score = 59.38%\n",
      "Max_deph = 3, accuracy score = 60.31%\n",
      "Max_deph = 4, accuracy score = 61.25%\n",
      "Max_deph = 5, accuracy score = 61.56%\n",
      "Max_deph = 6, accuracy score = 63.12%\n",
      "Max_deph = 7, accuracy score = 64.38%\n",
      "Max_deph = 8, accuracy score = 66.25%\n",
      "Max_deph = 9, accuracy score = 66.56%\n",
      "Max_deph = 10, accuracy score = 68.12%\n",
      "Max_deph = 11, accuracy score = 65.94%\n",
      "Max_deph = 12, accuracy score = 66.88%\n",
      "Max_deph = 13, accuracy score = 67.50%\n",
      "Max_deph = 14, accuracy score = 68.12%\n",
      "Max_deph = 15, accuracy score = 68.12%\n",
      "Max_deph = 16, accuracy score = 69.06%\n",
      "Max_deph = 17, accuracy score = 68.44%\n",
      "Max_deph = 18, accuracy score = 67.81%\n",
      "Max_deph = 19, accuracy score = 68.44%\n"
     ]
    }
   ],
   "source": [
    "for i in range(1, 20):\n",
    "    rf = RandomForestClassifier(random_state= 123, min_samples_leaf = 1, max_depth = i).fit(train_scaled, y_train)\n",
    "    score = rf.score(validate_scaled, y_validate)\n",
    "    print(f\"Max_deph = {i}, accuracy score = {score:.2%}\")"
   ]
  },
  {
   "cell_type": "code",
   "execution_count": 42,
   "metadata": {
    "scrolled": true
   },
   "outputs": [
    {
     "name": "stdout",
     "output_type": "stream",
     "text": [
      "Accuracy on dataset: 0.68\n",
      "   3  4    5   6   7  8\n",
      "3  0  0    1   0   0  0\n",
      "4  1  0   10   4   0  0\n",
      "5  0  0  117  25   2  0\n",
      "6  0  0   34  84   3  0\n",
      "7  0  0    3  16  18  0\n",
      "8  0  0    0   2   0  0\n"
     ]
    },
    {
     "data": {
      "text/html": [
       "<div>\n",
       "<style scoped>\n",
       "    .dataframe tbody tr th:only-of-type {\n",
       "        vertical-align: middle;\n",
       "    }\n",
       "\n",
       "    .dataframe tbody tr th {\n",
       "        vertical-align: top;\n",
       "    }\n",
       "\n",
       "    .dataframe thead th {\n",
       "        text-align: right;\n",
       "    }\n",
       "</style>\n",
       "<table border=\"1\" class=\"dataframe\">\n",
       "  <thead>\n",
       "    <tr style=\"text-align: right;\">\n",
       "      <th></th>\n",
       "      <th>3</th>\n",
       "      <th>4</th>\n",
       "      <th>5</th>\n",
       "      <th>6</th>\n",
       "      <th>7</th>\n",
       "      <th>8</th>\n",
       "      <th>accuracy</th>\n",
       "      <th>macro avg</th>\n",
       "      <th>weighted avg</th>\n",
       "    </tr>\n",
       "  </thead>\n",
       "  <tbody>\n",
       "    <tr>\n",
       "      <th>precision</th>\n",
       "      <td>0.0</td>\n",
       "      <td>0.0</td>\n",
       "      <td>0.709091</td>\n",
       "      <td>0.641221</td>\n",
       "      <td>0.782609</td>\n",
       "      <td>0.0</td>\n",
       "      <td>0.684375</td>\n",
       "      <td>0.355487</td>\n",
       "      <td>0.652042</td>\n",
       "    </tr>\n",
       "    <tr>\n",
       "      <th>recall</th>\n",
       "      <td>0.0</td>\n",
       "      <td>0.0</td>\n",
       "      <td>0.812500</td>\n",
       "      <td>0.694215</td>\n",
       "      <td>0.486486</td>\n",
       "      <td>0.0</td>\n",
       "      <td>0.684375</td>\n",
       "      <td>0.332200</td>\n",
       "      <td>0.684375</td>\n",
       "    </tr>\n",
       "    <tr>\n",
       "      <th>f1-score</th>\n",
       "      <td>0.0</td>\n",
       "      <td>0.0</td>\n",
       "      <td>0.757282</td>\n",
       "      <td>0.666667</td>\n",
       "      <td>0.600000</td>\n",
       "      <td>0.0</td>\n",
       "      <td>0.684375</td>\n",
       "      <td>0.337325</td>\n",
       "      <td>0.662235</td>\n",
       "    </tr>\n",
       "    <tr>\n",
       "      <th>support</th>\n",
       "      <td>1.0</td>\n",
       "      <td>15.0</td>\n",
       "      <td>144.000000</td>\n",
       "      <td>121.000000</td>\n",
       "      <td>37.000000</td>\n",
       "      <td>2.0</td>\n",
       "      <td>0.684375</td>\n",
       "      <td>320.000000</td>\n",
       "      <td>320.000000</td>\n",
       "    </tr>\n",
       "  </tbody>\n",
       "</table>\n",
       "</div>"
      ],
      "text/plain": [
       "             3     4           5           6          7    8  accuracy  \\\n",
       "precision  0.0   0.0    0.709091    0.641221   0.782609  0.0  0.684375   \n",
       "recall     0.0   0.0    0.812500    0.694215   0.486486  0.0  0.684375   \n",
       "f1-score   0.0   0.0    0.757282    0.666667   0.600000  0.0  0.684375   \n",
       "support    1.0  15.0  144.000000  121.000000  37.000000  2.0  0.684375   \n",
       "\n",
       "            macro avg  weighted avg  \n",
       "precision    0.355487      0.652042  \n",
       "recall       0.332200      0.684375  \n",
       "f1-score     0.337325      0.662235  \n",
       "support    320.000000    320.000000  "
      ]
     },
     "execution_count": 42,
     "metadata": {},
     "output_type": "execute_result"
    }
   ],
   "source": [
    "rf, y_pred = model.run_rf(train_scaled, y_train, 1, 17)\n",
    "class_eval[\"random_forest\"] = y_pred\n",
    "y_pred = rf.predict(validate_scaled)\n",
    "accuracy_score, matrix, report = model.accuracy_report(rf, y_pred, y_validate)\n",
    "print(accuracy_score)\n",
    "print(matrix)\n",
    "report"
   ]
  },
  {
   "cell_type": "markdown",
   "metadata": {},
   "source": [
    "## KNN"
   ]
  },
  {
   "cell_type": "code",
   "execution_count": 43,
   "metadata": {},
   "outputs": [],
   "source": [
    "# acquire and prep\n",
    "train_scaled, y_train, validate_scaled, y_validate, test_scaled, y_test = get_data_for_modeling()"
   ]
  },
  {
   "cell_type": "code",
   "execution_count": 44,
   "metadata": {},
   "outputs": [
    {
     "name": "stdout",
     "output_type": "stream",
     "text": [
      "Max_deph = 1, accuracy score = 60.31%\n",
      "Max_deph = 2, accuracy score = 58.44%\n",
      "Max_deph = 3, accuracy score = 53.75%\n",
      "Max_deph = 4, accuracy score = 56.56%\n",
      "Max_deph = 5, accuracy score = 56.56%\n",
      "Max_deph = 6, accuracy score = 59.06%\n",
      "Max_deph = 7, accuracy score = 57.81%\n",
      "Max_deph = 8, accuracy score = 57.81%\n",
      "Max_deph = 9, accuracy score = 58.75%\n",
      "Max_deph = 10, accuracy score = 59.69%\n",
      "Max_deph = 11, accuracy score = 59.69%\n",
      "Max_deph = 12, accuracy score = 58.75%\n",
      "Max_deph = 13, accuracy score = 59.06%\n",
      "Max_deph = 14, accuracy score = 59.38%\n",
      "Max_deph = 15, accuracy score = 62.81%\n",
      "Max_deph = 16, accuracy score = 62.19%\n",
      "Max_deph = 17, accuracy score = 60.31%\n",
      "Max_deph = 18, accuracy score = 59.38%\n",
      "Max_deph = 19, accuracy score = 61.56%\n",
      "Max_deph = 20, accuracy score = 61.25%\n",
      "Max_deph = 21, accuracy score = 61.25%\n",
      "Max_deph = 22, accuracy score = 61.56%\n",
      "Max_deph = 23, accuracy score = 60.31%\n",
      "Max_deph = 24, accuracy score = 60.31%\n"
     ]
    }
   ],
   "source": [
    "for i in range(1,25):\n",
    "    knn, y_pred = model.run_knn(train_scaled, y_train, i)\n",
    "    score = knn.score(validate_scaled, y_validate)\n",
    "    print(f\"Max_deph = {i}, accuracy score = {score:.2%}\")"
   ]
  },
  {
   "cell_type": "code",
   "execution_count": 45,
   "metadata": {},
   "outputs": [
    {
     "name": "stdout",
     "output_type": "stream",
     "text": [
      "Accuracy on dataset: 0.62\n",
      "   3  4    5   6   7  8\n",
      "3  0  0    1   0   0  0\n",
      "4  0  0    6   8   1  0\n",
      "5  0  0  109  33   2  0\n",
      "6  0  0   38  79   4  0\n",
      "7  0  0    5  21  11  0\n",
      "8  0  0    0   2   0  0\n"
     ]
    },
    {
     "data": {
      "text/html": [
       "<div>\n",
       "<style scoped>\n",
       "    .dataframe tbody tr th:only-of-type {\n",
       "        vertical-align: middle;\n",
       "    }\n",
       "\n",
       "    .dataframe tbody tr th {\n",
       "        vertical-align: top;\n",
       "    }\n",
       "\n",
       "    .dataframe thead th {\n",
       "        text-align: right;\n",
       "    }\n",
       "</style>\n",
       "<table border=\"1\" class=\"dataframe\">\n",
       "  <thead>\n",
       "    <tr style=\"text-align: right;\">\n",
       "      <th></th>\n",
       "      <th>3</th>\n",
       "      <th>4</th>\n",
       "      <th>5</th>\n",
       "      <th>6</th>\n",
       "      <th>7</th>\n",
       "      <th>8</th>\n",
       "      <th>accuracy</th>\n",
       "      <th>macro avg</th>\n",
       "      <th>weighted avg</th>\n",
       "    </tr>\n",
       "  </thead>\n",
       "  <tbody>\n",
       "    <tr>\n",
       "      <th>precision</th>\n",
       "      <td>0.0</td>\n",
       "      <td>0.0</td>\n",
       "      <td>0.685535</td>\n",
       "      <td>0.552448</td>\n",
       "      <td>0.611111</td>\n",
       "      <td>0.0</td>\n",
       "      <td>0.621875</td>\n",
       "      <td>0.308182</td>\n",
       "      <td>0.588045</td>\n",
       "    </tr>\n",
       "    <tr>\n",
       "      <th>recall</th>\n",
       "      <td>0.0</td>\n",
       "      <td>0.0</td>\n",
       "      <td>0.756944</td>\n",
       "      <td>0.652893</td>\n",
       "      <td>0.297297</td>\n",
       "      <td>0.0</td>\n",
       "      <td>0.621875</td>\n",
       "      <td>0.284522</td>\n",
       "      <td>0.621875</td>\n",
       "    </tr>\n",
       "    <tr>\n",
       "      <th>f1-score</th>\n",
       "      <td>0.0</td>\n",
       "      <td>0.0</td>\n",
       "      <td>0.719472</td>\n",
       "      <td>0.598485</td>\n",
       "      <td>0.400000</td>\n",
       "      <td>0.0</td>\n",
       "      <td>0.621875</td>\n",
       "      <td>0.286326</td>\n",
       "      <td>0.596314</td>\n",
       "    </tr>\n",
       "    <tr>\n",
       "      <th>support</th>\n",
       "      <td>1.0</td>\n",
       "      <td>15.0</td>\n",
       "      <td>144.000000</td>\n",
       "      <td>121.000000</td>\n",
       "      <td>37.000000</td>\n",
       "      <td>2.0</td>\n",
       "      <td>0.621875</td>\n",
       "      <td>320.000000</td>\n",
       "      <td>320.000000</td>\n",
       "    </tr>\n",
       "  </tbody>\n",
       "</table>\n",
       "</div>"
      ],
      "text/plain": [
       "             3     4           5           6          7    8  accuracy  \\\n",
       "precision  0.0   0.0    0.685535    0.552448   0.611111  0.0  0.621875   \n",
       "recall     0.0   0.0    0.756944    0.652893   0.297297  0.0  0.621875   \n",
       "f1-score   0.0   0.0    0.719472    0.598485   0.400000  0.0  0.621875   \n",
       "support    1.0  15.0  144.000000  121.000000  37.000000  2.0  0.621875   \n",
       "\n",
       "            macro avg  weighted avg  \n",
       "precision    0.308182      0.588045  \n",
       "recall       0.284522      0.621875  \n",
       "f1-score     0.286326      0.596314  \n",
       "support    320.000000    320.000000  "
      ]
     },
     "execution_count": 45,
     "metadata": {},
     "output_type": "execute_result"
    }
   ],
   "source": [
    "knn, y_pred = model.run_knn(train_scaled, y_train, 16)\n",
    "class_eval[\"knn\"] = y_pred\n",
    "y_pred = knn.predict(validate_scaled)\n",
    "accuracy_score, matrix, report = model.accuracy_report(knn,y_pred, y_validate)\n",
    "print(accuracy_score)\n",
    "print(matrix)\n",
    "report"
   ]
  },
  {
   "cell_type": "markdown",
   "metadata": {},
   "source": [
    "## Evaluate\n",
    "\n",
    "Lets see how to models compare to each other"
   ]
  },
  {
   "cell_type": "code",
   "execution_count": 46,
   "metadata": {},
   "outputs": [
    {
     "name": "stdout",
     "output_type": "stream",
     "text": [
      "actual accuracy = 100%\n",
      "baseline accuracy = 42%\n",
      "logistic_regression accuracy = 61%\n",
      "decision_tree accuracy = 100%\n",
      "random_forest accuracy = 100%\n",
      "knn accuracy = 64%\n"
     ]
    }
   ],
   "source": [
    "for i in range(0,6):\n",
    "    score = pd.DataFrame(classification_report(class_eval.actual, class_eval.iloc[:,i], output_dict=True))\n",
    "    accuracy_score = score.accuracy[0]\n",
    "    print(f\"{class_eval.columns[i]} accuracy = {accuracy_score:.0%}\")"
   ]
  },
  {
   "cell_type": "code",
   "execution_count": 47,
   "metadata": {},
   "outputs": [],
   "source": [
    "# How does the validate data sets perform?"
   ]
  },
  {
   "cell_type": "markdown",
   "metadata": {},
   "source": [
    "# Modeling Phase II \n",
    "\n",
    "Although the models are working - there might be a way to improve their performance by actually merging the target variables by their means, so that there are less possible outcomes.\n",
    "\n",
    "* Wines with scores 0 - 3 = 0\n",
    "* Wines with scores 4 - 7 = 1\n",
    "* Wines with scores 8 - 10 = 2"
   ]
  },
  {
   "cell_type": "code",
   "execution_count": 48,
   "metadata": {},
   "outputs": [],
   "source": [
    "def return_values_modeling(scaler, train, validate, test):\n",
    "        train_scaled = pd.DataFrame(scaler.transform(train), columns=train.columns.values).set_index([train.index.values])\n",
    "        validate_scaled = pd.DataFrame(scaler.transform(validate), columns=validate.columns.values).set_index([validate.index.values])\n",
    "        test_scaled = pd.DataFrame(scaler.transform(test), columns=test.columns.values).set_index([test.index.values])\n",
    "        return scaler, train_scaled, validate_scaled, test_scaled\n",
    "\n",
    "def get_data_for_modeling_2():\n",
    "    # Data acquire and prep\n",
    "    wines = pd.read_csv(\"wine-quality-red.csv\")\n",
    "    wines[\"mso2\"] = wines[\"free sulfur dioxide\"] / (1 + 10** (wines.pH - 1.81))\n",
    "    wines = wines.drop(columns= \"fixed acidity\")\n",
    "    wines['value'] = [2 if each > 6 else 1 if ((each > 4) and (each < 7)) else 0 for each in wines['quality']]\n",
    "    wines.drop(columns=\"quality\", inplace = True)\n",
    "    \n",
    "    # Data split\n",
    "    train, test = train_test_split(wines, random_state = 123, train_size=.8)\n",
    "    train, validate = train_test_split(train, random_state = 123, train_size=.75)\n",
    "    X_train = train.drop(columns=[\"value\"])\n",
    "    y_train = train.value\n",
    "    X_validate = validate.drop(columns=[\"value\"])\n",
    "    y_validate = validate.value\n",
    "    X_test = test.drop(columns=\"value\")\n",
    "    y_test = test.value\n",
    "    \n",
    "    # Data Scale\n",
    "    scaler = MinMaxScaler()\n",
    "    scaler.fit(X_train)\n",
    "    scaler, train_scaled, validate_scaled, test_scaled = return_values_modeling(scaler, X_train, X_validate, X_test)\n",
    "    \n",
    "    return train_scaled, y_train, validate_scaled, y_validate, test_scaled, y_test"
   ]
  },
  {
   "cell_type": "code",
   "execution_count": 49,
   "metadata": {},
   "outputs": [],
   "source": [
    "# acquire and prep\n",
    "train_scaled, y_train, validate_scaled, y_validate, test_scaled, y_test = get_data_for_modeling_2()"
   ]
  },
  {
   "cell_type": "code",
   "execution_count": 50,
   "metadata": {},
   "outputs": [
    {
     "data": {
      "text/plain": [
       "(959, 11)"
      ]
     },
     "execution_count": 50,
     "metadata": {},
     "output_type": "execute_result"
    }
   ],
   "source": [
    "train_scaled.shape"
   ]
  },
  {
   "cell_type": "code",
   "execution_count": 51,
   "metadata": {},
   "outputs": [
    {
     "data": {
      "text/plain": [
       "1    792\n",
       "2    134\n",
       "0     33\n",
       "Name: value, dtype: int64"
      ]
     },
     "execution_count": 51,
     "metadata": {},
     "output_type": "execute_result"
    }
   ],
   "source": [
    "y_train.value_counts()"
   ]
  },
  {
   "cell_type": "code",
   "execution_count": 52,
   "metadata": {},
   "outputs": [
    {
     "data": {
      "text/plain": [
       "1"
      ]
     },
     "execution_count": 52,
     "metadata": {},
     "output_type": "execute_result"
    }
   ],
   "source": [
    "y_train.mode()[0]"
   ]
  },
  {
   "cell_type": "code",
   "execution_count": 53,
   "metadata": {},
   "outputs": [],
   "source": [
    "class_eval_2 = pd.DataFrame({\"actual\": y_train})\n",
    "class_eval_2[\"baseline\"] = y_train.mode()[0]"
   ]
  },
  {
   "cell_type": "code",
   "execution_count": 54,
   "metadata": {},
   "outputs": [
    {
     "data": {
      "text/html": [
       "<div>\n",
       "<style scoped>\n",
       "    .dataframe tbody tr th:only-of-type {\n",
       "        vertical-align: middle;\n",
       "    }\n",
       "\n",
       "    .dataframe tbody tr th {\n",
       "        vertical-align: top;\n",
       "    }\n",
       "\n",
       "    .dataframe thead th {\n",
       "        text-align: right;\n",
       "    }\n",
       "</style>\n",
       "<table border=\"1\" class=\"dataframe\">\n",
       "  <thead>\n",
       "    <tr style=\"text-align: right;\">\n",
       "      <th></th>\n",
       "      <th>actual</th>\n",
       "      <th>baseline</th>\n",
       "    </tr>\n",
       "  </thead>\n",
       "  <tbody>\n",
       "    <tr>\n",
       "      <th>981</th>\n",
       "      <td>1</td>\n",
       "      <td>1</td>\n",
       "    </tr>\n",
       "    <tr>\n",
       "      <th>1503</th>\n",
       "      <td>1</td>\n",
       "      <td>1</td>\n",
       "    </tr>\n",
       "    <tr>\n",
       "      <th>456</th>\n",
       "      <td>1</td>\n",
       "      <td>1</td>\n",
       "    </tr>\n",
       "    <tr>\n",
       "      <th>611</th>\n",
       "      <td>1</td>\n",
       "      <td>1</td>\n",
       "    </tr>\n",
       "    <tr>\n",
       "      <th>2</th>\n",
       "      <td>1</td>\n",
       "      <td>1</td>\n",
       "    </tr>\n",
       "    <tr>\n",
       "      <th>...</th>\n",
       "      <td>...</td>\n",
       "      <td>...</td>\n",
       "    </tr>\n",
       "    <tr>\n",
       "      <th>862</th>\n",
       "      <td>1</td>\n",
       "      <td>1</td>\n",
       "    </tr>\n",
       "    <tr>\n",
       "      <th>998</th>\n",
       "      <td>1</td>\n",
       "      <td>1</td>\n",
       "    </tr>\n",
       "    <tr>\n",
       "      <th>1057</th>\n",
       "      <td>1</td>\n",
       "      <td>1</td>\n",
       "    </tr>\n",
       "    <tr>\n",
       "      <th>1345</th>\n",
       "      <td>1</td>\n",
       "      <td>1</td>\n",
       "    </tr>\n",
       "    <tr>\n",
       "      <th>635</th>\n",
       "      <td>1</td>\n",
       "      <td>1</td>\n",
       "    </tr>\n",
       "  </tbody>\n",
       "</table>\n",
       "<p>959 rows × 2 columns</p>\n",
       "</div>"
      ],
      "text/plain": [
       "      actual  baseline\n",
       "981        1         1\n",
       "1503       1         1\n",
       "456        1         1\n",
       "611        1         1\n",
       "2          1         1\n",
       "...      ...       ...\n",
       "862        1         1\n",
       "998        1         1\n",
       "1057       1         1\n",
       "1345       1         1\n",
       "635        1         1\n",
       "\n",
       "[959 rows x 2 columns]"
      ]
     },
     "execution_count": 54,
     "metadata": {},
     "output_type": "execute_result"
    }
   ],
   "source": [
    "class_eval_2"
   ]
  },
  {
   "cell_type": "markdown",
   "metadata": {},
   "source": [
    "## Logistic Regression"
   ]
  },
  {
   "cell_type": "code",
   "execution_count": 55,
   "metadata": {
    "scrolled": true
   },
   "outputs": [],
   "source": [
    "logit = LogisticRegression().fit(train_scaled, y_train)\n",
    "class_eval_2[\"logistic_regression_2\"] = logit.predict(train_scaled)"
   ]
  },
  {
   "cell_type": "code",
   "execution_count": 56,
   "metadata": {},
   "outputs": [
    {
     "name": "stdout",
     "output_type": "stream",
     "text": [
      "Accuracy on dataset: 0.84\n",
      "   0    1   2\n",
      "0  0   32   1\n",
      "1  0  775  17\n",
      "2  0  101  33\n"
     ]
    },
    {
     "data": {
      "text/html": [
       "<div>\n",
       "<style scoped>\n",
       "    .dataframe tbody tr th:only-of-type {\n",
       "        vertical-align: middle;\n",
       "    }\n",
       "\n",
       "    .dataframe tbody tr th {\n",
       "        vertical-align: top;\n",
       "    }\n",
       "\n",
       "    .dataframe thead th {\n",
       "        text-align: right;\n",
       "    }\n",
       "</style>\n",
       "<table border=\"1\" class=\"dataframe\">\n",
       "  <thead>\n",
       "    <tr style=\"text-align: right;\">\n",
       "      <th></th>\n",
       "      <th>0</th>\n",
       "      <th>1</th>\n",
       "      <th>2</th>\n",
       "      <th>accuracy</th>\n",
       "      <th>macro avg</th>\n",
       "      <th>weighted avg</th>\n",
       "    </tr>\n",
       "  </thead>\n",
       "  <tbody>\n",
       "    <tr>\n",
       "      <th>precision</th>\n",
       "      <td>0.0</td>\n",
       "      <td>0.853524</td>\n",
       "      <td>0.647059</td>\n",
       "      <td>0.842544</td>\n",
       "      <td>0.500194</td>\n",
       "      <td>0.795305</td>\n",
       "    </tr>\n",
       "    <tr>\n",
       "      <th>recall</th>\n",
       "      <td>0.0</td>\n",
       "      <td>0.978535</td>\n",
       "      <td>0.246269</td>\n",
       "      <td>0.842544</td>\n",
       "      <td>0.408268</td>\n",
       "      <td>0.842544</td>\n",
       "    </tr>\n",
       "    <tr>\n",
       "      <th>f1-score</th>\n",
       "      <td>0.0</td>\n",
       "      <td>0.911765</td>\n",
       "      <td>0.356757</td>\n",
       "      <td>0.842544</td>\n",
       "      <td>0.422840</td>\n",
       "      <td>0.802839</td>\n",
       "    </tr>\n",
       "    <tr>\n",
       "      <th>support</th>\n",
       "      <td>33.0</td>\n",
       "      <td>792.000000</td>\n",
       "      <td>134.000000</td>\n",
       "      <td>0.842544</td>\n",
       "      <td>959.000000</td>\n",
       "      <td>959.000000</td>\n",
       "    </tr>\n",
       "  </tbody>\n",
       "</table>\n",
       "</div>"
      ],
      "text/plain": [
       "              0           1           2  accuracy   macro avg  weighted avg\n",
       "precision   0.0    0.853524    0.647059  0.842544    0.500194      0.795305\n",
       "recall      0.0    0.978535    0.246269  0.842544    0.408268      0.842544\n",
       "f1-score    0.0    0.911765    0.356757  0.842544    0.422840      0.802839\n",
       "support    33.0  792.000000  134.000000  0.842544  959.000000    959.000000"
      ]
     },
     "execution_count": 56,
     "metadata": {},
     "output_type": "execute_result"
    }
   ],
   "source": [
    "logit, y_pred = model.run_lg(train_scaled, y_train)\n",
    "accuracy_score, matrix, report = model.accuracy_report(logit, y_pred, y_train)\n",
    "\n",
    "print(accuracy_score)\n",
    "print(matrix)\n",
    "report"
   ]
  },
  {
   "cell_type": "code",
   "execution_count": 57,
   "metadata": {
    "scrolled": true
   },
   "outputs": [
    {
     "name": "stdout",
     "output_type": "stream",
     "text": [
      "Accuracy on dataset: 0.86\n",
      "   0    1   2\n",
      "0  0   16   0\n",
      "1  0  262   3\n",
      "2  0   27  12\n"
     ]
    },
    {
     "data": {
      "text/html": [
       "<div>\n",
       "<style scoped>\n",
       "    .dataframe tbody tr th:only-of-type {\n",
       "        vertical-align: middle;\n",
       "    }\n",
       "\n",
       "    .dataframe tbody tr th {\n",
       "        vertical-align: top;\n",
       "    }\n",
       "\n",
       "    .dataframe thead th {\n",
       "        text-align: right;\n",
       "    }\n",
       "</style>\n",
       "<table border=\"1\" class=\"dataframe\">\n",
       "  <thead>\n",
       "    <tr style=\"text-align: right;\">\n",
       "      <th></th>\n",
       "      <th>0</th>\n",
       "      <th>1</th>\n",
       "      <th>2</th>\n",
       "      <th>accuracy</th>\n",
       "      <th>macro avg</th>\n",
       "      <th>weighted avg</th>\n",
       "    </tr>\n",
       "  </thead>\n",
       "  <tbody>\n",
       "    <tr>\n",
       "      <th>precision</th>\n",
       "      <td>0.0</td>\n",
       "      <td>0.859016</td>\n",
       "      <td>0.800000</td>\n",
       "      <td>0.85625</td>\n",
       "      <td>0.553005</td>\n",
       "      <td>0.808873</td>\n",
       "    </tr>\n",
       "    <tr>\n",
       "      <th>recall</th>\n",
       "      <td>0.0</td>\n",
       "      <td>0.988679</td>\n",
       "      <td>0.307692</td>\n",
       "      <td>0.85625</td>\n",
       "      <td>0.432124</td>\n",
       "      <td>0.856250</td>\n",
       "    </tr>\n",
       "    <tr>\n",
       "      <th>f1-score</th>\n",
       "      <td>0.0</td>\n",
       "      <td>0.919298</td>\n",
       "      <td>0.444444</td>\n",
       "      <td>0.85625</td>\n",
       "      <td>0.454581</td>\n",
       "      <td>0.815461</td>\n",
       "    </tr>\n",
       "    <tr>\n",
       "      <th>support</th>\n",
       "      <td>16.0</td>\n",
       "      <td>265.000000</td>\n",
       "      <td>39.000000</td>\n",
       "      <td>0.85625</td>\n",
       "      <td>320.000000</td>\n",
       "      <td>320.000000</td>\n",
       "    </tr>\n",
       "  </tbody>\n",
       "</table>\n",
       "</div>"
      ],
      "text/plain": [
       "              0           1          2  accuracy   macro avg  weighted avg\n",
       "precision   0.0    0.859016   0.800000   0.85625    0.553005      0.808873\n",
       "recall      0.0    0.988679   0.307692   0.85625    0.432124      0.856250\n",
       "f1-score    0.0    0.919298   0.444444   0.85625    0.454581      0.815461\n",
       "support    16.0  265.000000  39.000000   0.85625  320.000000    320.000000"
      ]
     },
     "execution_count": 57,
     "metadata": {},
     "output_type": "execute_result"
    }
   ],
   "source": [
    "# Short eval on validate df\n",
    "y_pred = logit.predict(validate_scaled)\n",
    "accuracy_score, matrix, report = model.accuracy_report(logit, y_pred, y_validate)\n",
    "print(accuracy_score)\n",
    "print(matrix)\n",
    "report"
   ]
  },
  {
   "cell_type": "markdown",
   "metadata": {},
   "source": [
    "## Decision Tree"
   ]
  },
  {
   "cell_type": "code",
   "execution_count": 58,
   "metadata": {},
   "outputs": [],
   "source": [
    "# acquire and prep\n",
    "train_scaled, y_train, validate_scaled, y_validate, test_scaled, y_test = get_data_for_modeling_2()"
   ]
  },
  {
   "cell_type": "code",
   "execution_count": 59,
   "metadata": {},
   "outputs": [
    {
     "name": "stdout",
     "output_type": "stream",
     "text": [
      "1 = 0.83\n",
      "2 = 0.83\n",
      "3 = 0.83\n",
      "4 = 0.83\n",
      "5 = 0.85\n",
      "6 = 0.86\n",
      "7 = 0.84\n",
      "8 = 0.85\n",
      "9 = 0.84\n",
      "10 = 0.84\n",
      "11 = 0.83\n",
      "12 = 0.83\n",
      "13 = 0.83\n",
      "14 = 0.83\n",
      "15 = 0.83\n",
      "16 = 0.83\n",
      "17 = 0.83\n",
      "18 = 0.83\n",
      "19 = 0.83\n",
      "20 = 0.83\n",
      "21 = 0.83\n",
      "22 = 0.83\n",
      "23 = 0.83\n",
      "24 = 0.83\n"
     ]
    }
   ],
   "source": [
    "for i in range(1,25):\n",
    "    clf, y_pred = model.run_clf(train_scaled, y_train, i)\n",
    "    y_pred = clf.predict(validate_scaled)\n",
    "    accuracy_score, matrix, report = model.accuracy_report(clf, y_pred, y_validate)\n",
    "    print(f'{i} = {report.accuracy[0]:.2f}')"
   ]
  },
  {
   "cell_type": "code",
   "execution_count": 60,
   "metadata": {
    "scrolled": true
   },
   "outputs": [],
   "source": [
    "clf, y_pred = model.run_clf(train_scaled, y_train, 6)\n",
    "class_eval_2[\"decision_tree_2\"] = y_pred"
   ]
  },
  {
   "cell_type": "code",
   "execution_count": 61,
   "metadata": {},
   "outputs": [
    {
     "name": "stdout",
     "output_type": "stream",
     "text": [
      "Accuracy on dataset: 0.91\n",
      "    0    1   2\n",
      "0  10   23   0\n",
      "1   1  776  15\n",
      "2   0   46  88\n"
     ]
    },
    {
     "data": {
      "text/html": [
       "<div>\n",
       "<style scoped>\n",
       "    .dataframe tbody tr th:only-of-type {\n",
       "        vertical-align: middle;\n",
       "    }\n",
       "\n",
       "    .dataframe tbody tr th {\n",
       "        vertical-align: top;\n",
       "    }\n",
       "\n",
       "    .dataframe thead th {\n",
       "        text-align: right;\n",
       "    }\n",
       "</style>\n",
       "<table border=\"1\" class=\"dataframe\">\n",
       "  <thead>\n",
       "    <tr style=\"text-align: right;\">\n",
       "      <th></th>\n",
       "      <th>0</th>\n",
       "      <th>1</th>\n",
       "      <th>2</th>\n",
       "      <th>accuracy</th>\n",
       "      <th>macro avg</th>\n",
       "      <th>weighted avg</th>\n",
       "    </tr>\n",
       "  </thead>\n",
       "  <tbody>\n",
       "    <tr>\n",
       "      <th>precision</th>\n",
       "      <td>0.909091</td>\n",
       "      <td>0.918343</td>\n",
       "      <td>0.854369</td>\n",
       "      <td>0.911366</td>\n",
       "      <td>0.893934</td>\n",
       "      <td>0.909086</td>\n",
       "    </tr>\n",
       "    <tr>\n",
       "      <th>recall</th>\n",
       "      <td>0.303030</td>\n",
       "      <td>0.979798</td>\n",
       "      <td>0.656716</td>\n",
       "      <td>0.911366</td>\n",
       "      <td>0.646515</td>\n",
       "      <td>0.911366</td>\n",
       "    </tr>\n",
       "    <tr>\n",
       "      <th>f1-score</th>\n",
       "      <td>0.454545</td>\n",
       "      <td>0.948076</td>\n",
       "      <td>0.742616</td>\n",
       "      <td>0.911366</td>\n",
       "      <td>0.715079</td>\n",
       "      <td>0.902384</td>\n",
       "    </tr>\n",
       "    <tr>\n",
       "      <th>support</th>\n",
       "      <td>33.000000</td>\n",
       "      <td>792.000000</td>\n",
       "      <td>134.000000</td>\n",
       "      <td>0.911366</td>\n",
       "      <td>959.000000</td>\n",
       "      <td>959.000000</td>\n",
       "    </tr>\n",
       "  </tbody>\n",
       "</table>\n",
       "</div>"
      ],
      "text/plain": [
       "                   0           1           2  accuracy   macro avg  \\\n",
       "precision   0.909091    0.918343    0.854369  0.911366    0.893934   \n",
       "recall      0.303030    0.979798    0.656716  0.911366    0.646515   \n",
       "f1-score    0.454545    0.948076    0.742616  0.911366    0.715079   \n",
       "support    33.000000  792.000000  134.000000  0.911366  959.000000   \n",
       "\n",
       "           weighted avg  \n",
       "precision      0.909086  \n",
       "recall         0.911366  \n",
       "f1-score       0.902384  \n",
       "support      959.000000  "
      ]
     },
     "execution_count": 61,
     "metadata": {},
     "output_type": "execute_result"
    }
   ],
   "source": [
    "accuracy_score, matrix, report = model.accuracy_report(clf, y_pred, y_train)\n",
    "print(accuracy_score)\n",
    "print(matrix)\n",
    "report"
   ]
  },
  {
   "cell_type": "code",
   "execution_count": 62,
   "metadata": {},
   "outputs": [
    {
     "name": "stdout",
     "output_type": "stream",
     "text": [
      "Accuracy on dataset: 0.86\n",
      "   0    1   2\n",
      "0  2   14   0\n",
      "1  2  257   6\n",
      "2  0   23  16\n"
     ]
    },
    {
     "data": {
      "text/html": [
       "<div>\n",
       "<style scoped>\n",
       "    .dataframe tbody tr th:only-of-type {\n",
       "        vertical-align: middle;\n",
       "    }\n",
       "\n",
       "    .dataframe tbody tr th {\n",
       "        vertical-align: top;\n",
       "    }\n",
       "\n",
       "    .dataframe thead th {\n",
       "        text-align: right;\n",
       "    }\n",
       "</style>\n",
       "<table border=\"1\" class=\"dataframe\">\n",
       "  <thead>\n",
       "    <tr style=\"text-align: right;\">\n",
       "      <th></th>\n",
       "      <th>0</th>\n",
       "      <th>1</th>\n",
       "      <th>2</th>\n",
       "      <th>accuracy</th>\n",
       "      <th>macro avg</th>\n",
       "      <th>weighted avg</th>\n",
       "    </tr>\n",
       "  </thead>\n",
       "  <tbody>\n",
       "    <tr>\n",
       "      <th>precision</th>\n",
       "      <td>0.500</td>\n",
       "      <td>0.874150</td>\n",
       "      <td>0.727273</td>\n",
       "      <td>0.859375</td>\n",
       "      <td>0.700474</td>\n",
       "      <td>0.837542</td>\n",
       "    </tr>\n",
       "    <tr>\n",
       "      <th>recall</th>\n",
       "      <td>0.125</td>\n",
       "      <td>0.969811</td>\n",
       "      <td>0.410256</td>\n",
       "      <td>0.859375</td>\n",
       "      <td>0.501689</td>\n",
       "      <td>0.859375</td>\n",
       "    </tr>\n",
       "    <tr>\n",
       "      <th>f1-score</th>\n",
       "      <td>0.200</td>\n",
       "      <td>0.919499</td>\n",
       "      <td>0.524590</td>\n",
       "      <td>0.859375</td>\n",
       "      <td>0.548030</td>\n",
       "      <td>0.835395</td>\n",
       "    </tr>\n",
       "    <tr>\n",
       "      <th>support</th>\n",
       "      <td>16.000</td>\n",
       "      <td>265.000000</td>\n",
       "      <td>39.000000</td>\n",
       "      <td>0.859375</td>\n",
       "      <td>320.000000</td>\n",
       "      <td>320.000000</td>\n",
       "    </tr>\n",
       "  </tbody>\n",
       "</table>\n",
       "</div>"
      ],
      "text/plain": [
       "                0           1          2  accuracy   macro avg  weighted avg\n",
       "precision   0.500    0.874150   0.727273  0.859375    0.700474      0.837542\n",
       "recall      0.125    0.969811   0.410256  0.859375    0.501689      0.859375\n",
       "f1-score    0.200    0.919499   0.524590  0.859375    0.548030      0.835395\n",
       "support    16.000  265.000000  39.000000  0.859375  320.000000    320.000000"
      ]
     },
     "execution_count": 62,
     "metadata": {},
     "output_type": "execute_result"
    }
   ],
   "source": [
    "y_pred = clf.predict(validate_scaled)\n",
    "accuracy_score, matrix, report = model.accuracy_report(clf, y_pred, y_validate)\n",
    "print(accuracy_score)\n",
    "print(matrix)\n",
    "report"
   ]
  },
  {
   "cell_type": "markdown",
   "metadata": {},
   "source": [
    "... So we got 100% accuracy on the validate data... that's pretty cool"
   ]
  },
  {
   "cell_type": "markdown",
   "metadata": {},
   "source": [
    "## Random Forest"
   ]
  },
  {
   "cell_type": "code",
   "execution_count": 63,
   "metadata": {},
   "outputs": [],
   "source": [
    "# acquire and prep\n",
    "train_scaled, y_train, validate_scaled, y_validate, test_scaled, y_test = get_data_for_modeling_2()"
   ]
  },
  {
   "cell_type": "code",
   "execution_count": 64,
   "metadata": {
    "scrolled": false
   },
   "outputs": [
    {
     "name": "stdout",
     "output_type": "stream",
     "text": [
      "1 = 0.83\n",
      "2 = 0.83\n",
      "3 = 0.85\n",
      "4 = 0.85\n",
      "5 = 0.85\n",
      "6 = 0.86\n",
      "7 = 0.86\n",
      "8 = 0.86\n",
      "9 = 0.86\n",
      "10 = 0.87\n",
      "11 = 0.87\n",
      "12 = 0.87\n",
      "13 = 0.88\n",
      "14 = 0.87\n",
      "15 = 0.87\n",
      "16 = 0.87\n",
      "17 = 0.87\n",
      "18 = 0.87\n",
      "19 = 0.88\n",
      "20 = 0.87\n",
      "21 = 0.87\n",
      "22 = 0.87\n",
      "23 = 0.87\n",
      "24 = 0.87\n"
     ]
    }
   ],
   "source": [
    "for i in range(1,25):\n",
    "    rf, y_pred = model.run_rf(train_scaled, y_train, 1, i)\n",
    "    y_pred = rf.predict(validate_scaled)\n",
    "    accuracy_score, matrix, report = model.accuracy_report(rf, y_pred, y_validate)\n",
    "    print(f\"{i} = {report.accuracy[0]:.2f}\")"
   ]
  },
  {
   "cell_type": "code",
   "execution_count": 65,
   "metadata": {},
   "outputs": [],
   "source": [
    "rf, y_pred = model.run_rf(train_scaled, y_train, 1, 10)\n",
    "class_eval_2[\"random_forest_2\"] = y_pred"
   ]
  },
  {
   "cell_type": "code",
   "execution_count": 66,
   "metadata": {
    "scrolled": true
   },
   "outputs": [
    {
     "name": "stdout",
     "output_type": "stream",
     "text": [
      "Accuracy on dataset: 0.97\n",
      "    0    1    2\n",
      "0  22   11    0\n",
      "1   0  792    0\n",
      "2   0   13  121\n"
     ]
    },
    {
     "data": {
      "text/html": [
       "<div>\n",
       "<style scoped>\n",
       "    .dataframe tbody tr th:only-of-type {\n",
       "        vertical-align: middle;\n",
       "    }\n",
       "\n",
       "    .dataframe tbody tr th {\n",
       "        vertical-align: top;\n",
       "    }\n",
       "\n",
       "    .dataframe thead th {\n",
       "        text-align: right;\n",
       "    }\n",
       "</style>\n",
       "<table border=\"1\" class=\"dataframe\">\n",
       "  <thead>\n",
       "    <tr style=\"text-align: right;\">\n",
       "      <th></th>\n",
       "      <th>0</th>\n",
       "      <th>1</th>\n",
       "      <th>2</th>\n",
       "      <th>accuracy</th>\n",
       "      <th>macro avg</th>\n",
       "      <th>weighted avg</th>\n",
       "    </tr>\n",
       "  </thead>\n",
       "  <tbody>\n",
       "    <tr>\n",
       "      <th>precision</th>\n",
       "      <td>1.000000</td>\n",
       "      <td>0.970588</td>\n",
       "      <td>1.000000</td>\n",
       "      <td>0.974974</td>\n",
       "      <td>0.990196</td>\n",
       "      <td>0.975710</td>\n",
       "    </tr>\n",
       "    <tr>\n",
       "      <th>recall</th>\n",
       "      <td>0.666667</td>\n",
       "      <td>1.000000</td>\n",
       "      <td>0.902985</td>\n",
       "      <td>0.974974</td>\n",
       "      <td>0.856551</td>\n",
       "      <td>0.974974</td>\n",
       "    </tr>\n",
       "    <tr>\n",
       "      <th>f1-score</th>\n",
       "      <td>0.800000</td>\n",
       "      <td>0.985075</td>\n",
       "      <td>0.949020</td>\n",
       "      <td>0.974974</td>\n",
       "      <td>0.911365</td>\n",
       "      <td>0.973668</td>\n",
       "    </tr>\n",
       "    <tr>\n",
       "      <th>support</th>\n",
       "      <td>33.000000</td>\n",
       "      <td>792.000000</td>\n",
       "      <td>134.000000</td>\n",
       "      <td>0.974974</td>\n",
       "      <td>959.000000</td>\n",
       "      <td>959.000000</td>\n",
       "    </tr>\n",
       "  </tbody>\n",
       "</table>\n",
       "</div>"
      ],
      "text/plain": [
       "                   0           1           2  accuracy   macro avg  \\\n",
       "precision   1.000000    0.970588    1.000000  0.974974    0.990196   \n",
       "recall      0.666667    1.000000    0.902985  0.974974    0.856551   \n",
       "f1-score    0.800000    0.985075    0.949020  0.974974    0.911365   \n",
       "support    33.000000  792.000000  134.000000  0.974974  959.000000   \n",
       "\n",
       "           weighted avg  \n",
       "precision      0.975710  \n",
       "recall         0.974974  \n",
       "f1-score       0.973668  \n",
       "support      959.000000  "
      ]
     },
     "execution_count": 66,
     "metadata": {},
     "output_type": "execute_result"
    }
   ],
   "source": [
    "accuracy_score, matrix, report = model.accuracy_report(rf, y_pred, y_train)\n",
    "print(accuracy_score)\n",
    "print(matrix)\n",
    "report"
   ]
  },
  {
   "cell_type": "code",
   "execution_count": 67,
   "metadata": {},
   "outputs": [
    {
     "name": "stdout",
     "output_type": "stream",
     "text": [
      "Accuracy on dataset: 0.87\n",
      "   0    1   2\n",
      "0  1   15   0\n",
      "1  0  261   4\n",
      "2  0   24  15\n"
     ]
    },
    {
     "data": {
      "text/html": [
       "<div>\n",
       "<style scoped>\n",
       "    .dataframe tbody tr th:only-of-type {\n",
       "        vertical-align: middle;\n",
       "    }\n",
       "\n",
       "    .dataframe tbody tr th {\n",
       "        vertical-align: top;\n",
       "    }\n",
       "\n",
       "    .dataframe thead th {\n",
       "        text-align: right;\n",
       "    }\n",
       "</style>\n",
       "<table border=\"1\" class=\"dataframe\">\n",
       "  <thead>\n",
       "    <tr style=\"text-align: right;\">\n",
       "      <th></th>\n",
       "      <th>0</th>\n",
       "      <th>1</th>\n",
       "      <th>2</th>\n",
       "      <th>accuracy</th>\n",
       "      <th>macro avg</th>\n",
       "      <th>weighted avg</th>\n",
       "    </tr>\n",
       "  </thead>\n",
       "  <tbody>\n",
       "    <tr>\n",
       "      <th>precision</th>\n",
       "      <td>1.000000</td>\n",
       "      <td>0.870000</td>\n",
       "      <td>0.789474</td>\n",
       "      <td>0.865625</td>\n",
       "      <td>0.886491</td>\n",
       "      <td>0.866686</td>\n",
       "    </tr>\n",
       "    <tr>\n",
       "      <th>recall</th>\n",
       "      <td>0.062500</td>\n",
       "      <td>0.984906</td>\n",
       "      <td>0.384615</td>\n",
       "      <td>0.865625</td>\n",
       "      <td>0.477340</td>\n",
       "      <td>0.865625</td>\n",
       "    </tr>\n",
       "    <tr>\n",
       "      <th>f1-score</th>\n",
       "      <td>0.117647</td>\n",
       "      <td>0.923894</td>\n",
       "      <td>0.517241</td>\n",
       "      <td>0.865625</td>\n",
       "      <td>0.519594</td>\n",
       "      <td>0.834021</td>\n",
       "    </tr>\n",
       "    <tr>\n",
       "      <th>support</th>\n",
       "      <td>16.000000</td>\n",
       "      <td>265.000000</td>\n",
       "      <td>39.000000</td>\n",
       "      <td>0.865625</td>\n",
       "      <td>320.000000</td>\n",
       "      <td>320.000000</td>\n",
       "    </tr>\n",
       "  </tbody>\n",
       "</table>\n",
       "</div>"
      ],
      "text/plain": [
       "                   0           1          2  accuracy   macro avg  \\\n",
       "precision   1.000000    0.870000   0.789474  0.865625    0.886491   \n",
       "recall      0.062500    0.984906   0.384615  0.865625    0.477340   \n",
       "f1-score    0.117647    0.923894   0.517241  0.865625    0.519594   \n",
       "support    16.000000  265.000000  39.000000  0.865625  320.000000   \n",
       "\n",
       "           weighted avg  \n",
       "precision      0.866686  \n",
       "recall         0.865625  \n",
       "f1-score       0.834021  \n",
       "support      320.000000  "
      ]
     },
     "execution_count": 67,
     "metadata": {},
     "output_type": "execute_result"
    }
   ],
   "source": [
    "y_pred = rf.predict(validate_scaled)\n",
    "accuracy_score, matrix, report = model.accuracy_report(rf, y_pred, y_validate)\n",
    "print(accuracy_score)\n",
    "print(matrix)\n",
    "report"
   ]
  },
  {
   "cell_type": "markdown",
   "metadata": {},
   "source": [
    "## KNN"
   ]
  },
  {
   "cell_type": "code",
   "execution_count": 68,
   "metadata": {},
   "outputs": [],
   "source": [
    "# acquire and prep\n",
    "train_scaled, y_train, validate_scaled, y_validate, test_scaled, y_test = get_data_for_modeling_2()"
   ]
  },
  {
   "cell_type": "code",
   "execution_count": 69,
   "metadata": {},
   "outputs": [
    {
     "name": "stdout",
     "output_type": "stream",
     "text": [
      "1 = 1.00, eval = 0.84\n",
      "2 = 0.91, eval = 0.82\n",
      "3 = 0.91, eval = 0.82\n",
      "4 = 0.88, eval = 0.86\n",
      "5 = 0.88, eval = 0.84\n",
      "6 = 0.87, eval = 0.84\n",
      "7 = 0.87, eval = 0.84\n",
      "8 = 0.86, eval = 0.84\n",
      "9 = 0.86, eval = 0.85\n",
      "10 = 0.86, eval = 0.85\n",
      "11 = 0.86, eval = 0.84\n",
      "12 = 0.86, eval = 0.84\n",
      "13 = 0.85, eval = 0.84\n",
      "14 = 0.85, eval = 0.84\n",
      "15 = 0.84, eval = 0.85\n",
      "16 = 0.85, eval = 0.84\n",
      "17 = 0.84, eval = 0.84\n",
      "18 = 0.85, eval = 0.84\n",
      "19 = 0.85, eval = 0.84\n",
      "20 = 0.85, eval = 0.84\n",
      "21 = 0.85, eval = 0.85\n",
      "22 = 0.85, eval = 0.85\n",
      "23 = 0.84, eval = 0.85\n",
      "24 = 0.85, eval = 0.85\n"
     ]
    }
   ],
   "source": [
    "for i in range(1,25):\n",
    "    knn, y_pred = model.run_knn(train_scaled, y_train, i)\n",
    "    accuracy_score, matrix, report = model.accuracy_report(knn, y_pred, y_train)\n",
    "    y_pred_2 = knn.predict(validate_scaled)\n",
    "    accuracy_score_2, matrix_2, report_2 = model.accuracy_report(knn, y_pred_2, y_validate)\n",
    "    print(f\"{i} = {report.accuracy[0]:.2f}, eval = {report_2.accuracy[0]:.2f}\")"
   ]
  },
  {
   "cell_type": "code",
   "execution_count": 70,
   "metadata": {},
   "outputs": [],
   "source": [
    "knn, y_pred = model.run_knn(train_scaled, y_train, 4)\n",
    "class_eval_2[\"knn_2\"] = y_pred"
   ]
  },
  {
   "cell_type": "code",
   "execution_count": 71,
   "metadata": {},
   "outputs": [
    {
     "name": "stdout",
     "output_type": "stream",
     "text": [
      "Accuracy on dataset: 0.88\n",
      "   0    1   2\n",
      "0  7   24   2\n",
      "1  3  778  11\n",
      "2  0   73  61\n"
     ]
    },
    {
     "data": {
      "text/html": [
       "<div>\n",
       "<style scoped>\n",
       "    .dataframe tbody tr th:only-of-type {\n",
       "        vertical-align: middle;\n",
       "    }\n",
       "\n",
       "    .dataframe tbody tr th {\n",
       "        vertical-align: top;\n",
       "    }\n",
       "\n",
       "    .dataframe thead th {\n",
       "        text-align: right;\n",
       "    }\n",
       "</style>\n",
       "<table border=\"1\" class=\"dataframe\">\n",
       "  <thead>\n",
       "    <tr style=\"text-align: right;\">\n",
       "      <th></th>\n",
       "      <th>0</th>\n",
       "      <th>1</th>\n",
       "      <th>2</th>\n",
       "      <th>accuracy</th>\n",
       "      <th>macro avg</th>\n",
       "      <th>weighted avg</th>\n",
       "    </tr>\n",
       "  </thead>\n",
       "  <tbody>\n",
       "    <tr>\n",
       "      <th>precision</th>\n",
       "      <td>0.700000</td>\n",
       "      <td>0.889143</td>\n",
       "      <td>0.824324</td>\n",
       "      <td>0.882169</td>\n",
       "      <td>0.804489</td>\n",
       "      <td>0.873577</td>\n",
       "    </tr>\n",
       "    <tr>\n",
       "      <th>recall</th>\n",
       "      <td>0.212121</td>\n",
       "      <td>0.982323</td>\n",
       "      <td>0.455224</td>\n",
       "      <td>0.882169</td>\n",
       "      <td>0.549889</td>\n",
       "      <td>0.882169</td>\n",
       "    </tr>\n",
       "    <tr>\n",
       "      <th>f1-score</th>\n",
       "      <td>0.325581</td>\n",
       "      <td>0.933413</td>\n",
       "      <td>0.586538</td>\n",
       "      <td>0.882169</td>\n",
       "      <td>0.615178</td>\n",
       "      <td>0.864029</td>\n",
       "    </tr>\n",
       "    <tr>\n",
       "      <th>support</th>\n",
       "      <td>33.000000</td>\n",
       "      <td>792.000000</td>\n",
       "      <td>134.000000</td>\n",
       "      <td>0.882169</td>\n",
       "      <td>959.000000</td>\n",
       "      <td>959.000000</td>\n",
       "    </tr>\n",
       "  </tbody>\n",
       "</table>\n",
       "</div>"
      ],
      "text/plain": [
       "                   0           1           2  accuracy   macro avg  \\\n",
       "precision   0.700000    0.889143    0.824324  0.882169    0.804489   \n",
       "recall      0.212121    0.982323    0.455224  0.882169    0.549889   \n",
       "f1-score    0.325581    0.933413    0.586538  0.882169    0.615178   \n",
       "support    33.000000  792.000000  134.000000  0.882169  959.000000   \n",
       "\n",
       "           weighted avg  \n",
       "precision      0.873577  \n",
       "recall         0.882169  \n",
       "f1-score       0.864029  \n",
       "support      959.000000  "
      ]
     },
     "execution_count": 71,
     "metadata": {},
     "output_type": "execute_result"
    }
   ],
   "source": [
    "accuracy_score, matrix, report = model.accuracy_report(knn, y_pred, y_train)\n",
    "print(accuracy_score)\n",
    "print(matrix)\n",
    "report"
   ]
  },
  {
   "cell_type": "code",
   "execution_count": 72,
   "metadata": {},
   "outputs": [
    {
     "name": "stdout",
     "output_type": "stream",
     "text": [
      "Accuracy on dataset: 0.86\n",
      "   0    1   2\n",
      "0  3   13   0\n",
      "1  3  259   3\n",
      "2  0   27  12\n"
     ]
    },
    {
     "data": {
      "text/html": [
       "<div>\n",
       "<style scoped>\n",
       "    .dataframe tbody tr th:only-of-type {\n",
       "        vertical-align: middle;\n",
       "    }\n",
       "\n",
       "    .dataframe tbody tr th {\n",
       "        vertical-align: top;\n",
       "    }\n",
       "\n",
       "    .dataframe thead th {\n",
       "        text-align: right;\n",
       "    }\n",
       "</style>\n",
       "<table border=\"1\" class=\"dataframe\">\n",
       "  <thead>\n",
       "    <tr style=\"text-align: right;\">\n",
       "      <th></th>\n",
       "      <th>0</th>\n",
       "      <th>1</th>\n",
       "      <th>2</th>\n",
       "      <th>accuracy</th>\n",
       "      <th>macro avg</th>\n",
       "      <th>weighted avg</th>\n",
       "    </tr>\n",
       "  </thead>\n",
       "  <tbody>\n",
       "    <tr>\n",
       "      <th>precision</th>\n",
       "      <td>0.500000</td>\n",
       "      <td>0.866221</td>\n",
       "      <td>0.800000</td>\n",
       "      <td>0.85625</td>\n",
       "      <td>0.722074</td>\n",
       "      <td>0.839839</td>\n",
       "    </tr>\n",
       "    <tr>\n",
       "      <th>recall</th>\n",
       "      <td>0.187500</td>\n",
       "      <td>0.977358</td>\n",
       "      <td>0.307692</td>\n",
       "      <td>0.85625</td>\n",
       "      <td>0.490850</td>\n",
       "      <td>0.856250</td>\n",
       "    </tr>\n",
       "    <tr>\n",
       "      <th>f1-score</th>\n",
       "      <td>0.272727</td>\n",
       "      <td>0.918440</td>\n",
       "      <td>0.444444</td>\n",
       "      <td>0.85625</td>\n",
       "      <td>0.545204</td>\n",
       "      <td>0.828386</td>\n",
       "    </tr>\n",
       "    <tr>\n",
       "      <th>support</th>\n",
       "      <td>16.000000</td>\n",
       "      <td>265.000000</td>\n",
       "      <td>39.000000</td>\n",
       "      <td>0.85625</td>\n",
       "      <td>320.000000</td>\n",
       "      <td>320.000000</td>\n",
       "    </tr>\n",
       "  </tbody>\n",
       "</table>\n",
       "</div>"
      ],
      "text/plain": [
       "                   0           1          2  accuracy   macro avg  \\\n",
       "precision   0.500000    0.866221   0.800000   0.85625    0.722074   \n",
       "recall      0.187500    0.977358   0.307692   0.85625    0.490850   \n",
       "f1-score    0.272727    0.918440   0.444444   0.85625    0.545204   \n",
       "support    16.000000  265.000000  39.000000   0.85625  320.000000   \n",
       "\n",
       "           weighted avg  \n",
       "precision      0.839839  \n",
       "recall         0.856250  \n",
       "f1-score       0.828386  \n",
       "support      320.000000  "
      ]
     },
     "execution_count": 72,
     "metadata": {},
     "output_type": "execute_result"
    }
   ],
   "source": [
    "y_pred = knn.predict(validate_scaled)\n",
    "accuracy_score, matrix, report = model.accuracy_report(knn, y_pred, y_validate)\n",
    "print(accuracy_score)\n",
    "print(matrix)\n",
    "report"
   ]
  },
  {
   "cell_type": "code",
   "execution_count": 73,
   "metadata": {
    "scrolled": true
   },
   "outputs": [
    {
     "data": {
      "text/plain": [
       "0.8821689259645464"
      ]
     },
     "execution_count": 73,
     "metadata": {},
     "output_type": "execute_result"
    }
   ],
   "source": [
    "pd.DataFrame(classification_report(class_eval_2.actual, class_eval_2.knn_2, output_dict=True)).accuracy[0]"
   ]
  },
  {
   "cell_type": "code",
   "execution_count": 74,
   "metadata": {
    "scrolled": true
   },
   "outputs": [
    {
     "name": "stdout",
     "output_type": "stream",
     "text": [
      "actual accuracy score = 1.00\n",
      "baseline accuracy score = 0.83\n",
      "logistic_regression_2 accuracy score = 0.84\n",
      "decision_tree_2 accuracy score = 0.91\n",
      "random_forest_2 accuracy score = 0.97\n",
      "knn_2 accuracy score = 0.88\n"
     ]
    }
   ],
   "source": [
    "# Compare the different models\n",
    "\n",
    "for i in range(0,6):\n",
    "    accuracy = pd.DataFrame(classification_report(class_eval_2.actual, class_eval_2.iloc[:,i], output_dict=True)).accuracy[0]\n",
    "    print(f'{class_eval_2.columns[i]} accuracy score = {accuracy:.2f}')"
   ]
  },
  {
   "cell_type": "code",
   "execution_count": 75,
   "metadata": {},
   "outputs": [],
   "source": [
    "# Just realized there was a mistake - and during the modeling phase ii, we actually leaked the target vareiable to he models\n",
    "# which is why there were preforming so well. \n",
    "\n",
    "# Need to redo phase II and find a good model."
   ]
  },
  {
   "cell_type": "markdown",
   "metadata": {},
   "source": [
    "The models do significantly better predicting quality when we look at the mean of quality. The next step I would like to try is to then isolate the wines based on their mean score - and then we can run individual models for each individual subgroup. \n",
    "\n",
    "SO this is what the plan could look like: \n",
    "\n",
    "1. Data comes in without labels\n",
    "2. Use random forest 2 to predict if they fall into category 0, 1 or 2\n",
    "3. Divde the data based on each category\n",
    "4. Run each subset through a new model to predict the final quality of the wine"
   ]
  },
  {
   "cell_type": "markdown",
   "metadata": {},
   "source": [
    "# Modeling Phase III"
   ]
  },
  {
   "cell_type": "code",
   "execution_count": 76,
   "metadata": {},
   "outputs": [],
   "source": [
    "def return_values_modeling(scaler, train, validate, test):\n",
    "        train_scaled = pd.DataFrame(scaler.transform(train), columns=train.columns.values).set_index([train.index.values])\n",
    "        validate_scaled = pd.DataFrame(scaler.transform(validate), columns=validate.columns.values).set_index([validate.index.values])\n",
    "        test_scaled = pd.DataFrame(scaler.transform(test), columns=test.columns.values).set_index([test.index.values])\n",
    "        return scaler, train_scaled, validate_scaled, test_scaled\n",
    "\n",
    "def get_data_for_modeling_3():\n",
    "    # Data acquire and prep\n",
    "    wines = pd.read_csv(\"wine-quality-red.csv\")\n",
    "    wines[\"mso2\"] = wines[\"free sulfur dioxide\"] / (1 + 10** (wines.pH - 1.81))\n",
    "    wines = wines.drop(columns= \"fixed acidity\")\n",
    "    wines['value'] = [2 if each > 6 else 1 if ((each > 4) and (each < 7)) else 0 for each in wines['quality']]\n",
    "    \n",
    "    # Data split\n",
    "    train, test = train_test_split(wines, random_state = 123, train_size=.8)\n",
    "    train, validate = train_test_split(train, random_state = 123, train_size=.75)\n",
    "    X_train = train.drop(columns=[\"value\", \"quality\"])\n",
    "    y_train = train[[\"value\", \"quality\"]]\n",
    "    X_validate = validate.drop(columns=[\"value\", \"quality\"])\n",
    "    y_validate = validate[[\"value\", \"quality\"]]\n",
    "    X_test = test.drop(columns= [\"value\", \"quality\"])\n",
    "    y_test = test[[\"value\", \"quality\"]]\n",
    "    \n",
    "    # Data Scale\n",
    "    scaler = MinMaxScaler()\n",
    "    scaler.fit(X_train)\n",
    "    scaler, train_scaled, validate_scaled, test_scaled = return_values_modeling(scaler, X_train, X_validate, X_test)\n",
    "    \n",
    "    return train_scaled, y_train, validate_scaled, y_validate, test_scaled, y_test"
   ]
  },
  {
   "cell_type": "markdown",
   "metadata": {},
   "source": [
    "# Random Forest"
   ]
  },
  {
   "cell_type": "code",
   "execution_count": 77,
   "metadata": {},
   "outputs": [],
   "source": [
    "train_scaled, y_train, validate_scaled, y_validate, test_scaled, y_test = get_data_for_modeling_2()"
   ]
  },
  {
   "cell_type": "code",
   "execution_count": 78,
   "metadata": {},
   "outputs": [
    {
     "data": {
      "text/html": [
       "<div>\n",
       "<style scoped>\n",
       "    .dataframe tbody tr th:only-of-type {\n",
       "        vertical-align: middle;\n",
       "    }\n",
       "\n",
       "    .dataframe tbody tr th {\n",
       "        vertical-align: top;\n",
       "    }\n",
       "\n",
       "    .dataframe thead th {\n",
       "        text-align: right;\n",
       "    }\n",
       "</style>\n",
       "<table border=\"1\" class=\"dataframe\">\n",
       "  <thead>\n",
       "    <tr style=\"text-align: right;\">\n",
       "      <th></th>\n",
       "      <th>volatile acidity</th>\n",
       "      <th>citric acid</th>\n",
       "      <th>residual sugar</th>\n",
       "      <th>chlorides</th>\n",
       "      <th>free sulfur dioxide</th>\n",
       "      <th>total sulfur dioxide</th>\n",
       "      <th>density</th>\n",
       "      <th>pH</th>\n",
       "      <th>sulphates</th>\n",
       "      <th>alcohol</th>\n",
       "      <th>mso2</th>\n",
       "    </tr>\n",
       "  </thead>\n",
       "  <tbody>\n",
       "    <tr>\n",
       "      <th>981</th>\n",
       "      <td>0.506849</td>\n",
       "      <td>0.26</td>\n",
       "      <td>0.068966</td>\n",
       "      <td>0.111853</td>\n",
       "      <td>0.169014</td>\n",
       "      <td>0.077739</td>\n",
       "      <td>0.517621</td>\n",
       "      <td>0.401575</td>\n",
       "      <td>0.153374</td>\n",
       "      <td>0.285714</td>\n",
       "      <td>0.129035</td>\n",
       "    </tr>\n",
       "    <tr>\n",
       "      <th>1503</th>\n",
       "      <td>0.219178</td>\n",
       "      <td>0.39</td>\n",
       "      <td>0.110345</td>\n",
       "      <td>0.108514</td>\n",
       "      <td>0.070423</td>\n",
       "      <td>0.028269</td>\n",
       "      <td>0.402349</td>\n",
       "      <td>0.606299</td>\n",
       "      <td>0.196319</td>\n",
       "      <td>0.464286</td>\n",
       "      <td>0.027806</td>\n",
       "    </tr>\n",
       "    <tr>\n",
       "      <th>456</th>\n",
       "      <td>0.321918</td>\n",
       "      <td>0.39</td>\n",
       "      <td>0.096552</td>\n",
       "      <td>0.138564</td>\n",
       "      <td>0.056338</td>\n",
       "      <td>0.056537</td>\n",
       "      <td>0.626285</td>\n",
       "      <td>0.496063</td>\n",
       "      <td>0.128834</td>\n",
       "      <td>0.339286</td>\n",
       "      <td>0.032791</td>\n",
       "    </tr>\n",
       "    <tr>\n",
       "      <th>611</th>\n",
       "      <td>0.178082</td>\n",
       "      <td>0.55</td>\n",
       "      <td>0.124138</td>\n",
       "      <td>0.115192</td>\n",
       "      <td>0.056338</td>\n",
       "      <td>0.035336</td>\n",
       "      <td>0.773128</td>\n",
       "      <td>0.188976</td>\n",
       "      <td>0.104294</td>\n",
       "      <td>0.178571</td>\n",
       "      <td>0.087467</td>\n",
       "    </tr>\n",
       "    <tr>\n",
       "      <th>2</th>\n",
       "      <td>0.438356</td>\n",
       "      <td>0.04</td>\n",
       "      <td>0.096552</td>\n",
       "      <td>0.133556</td>\n",
       "      <td>0.197183</td>\n",
       "      <td>0.169611</td>\n",
       "      <td>0.508811</td>\n",
       "      <td>0.409449</td>\n",
       "      <td>0.171779</td>\n",
       "      <td>0.250000</td>\n",
       "      <td>0.146556</td>\n",
       "    </tr>\n",
       "    <tr>\n",
       "      <th>...</th>\n",
       "      <td>...</td>\n",
       "      <td>...</td>\n",
       "      <td>...</td>\n",
       "      <td>...</td>\n",
       "      <td>...</td>\n",
       "      <td>...</td>\n",
       "      <td>...</td>\n",
       "      <td>...</td>\n",
       "      <td>...</td>\n",
       "      <td>...</td>\n",
       "      <td>...</td>\n",
       "    </tr>\n",
       "    <tr>\n",
       "      <th>862</th>\n",
       "      <td>0.205479</td>\n",
       "      <td>0.32</td>\n",
       "      <td>0.124138</td>\n",
       "      <td>0.091820</td>\n",
       "      <td>0.084507</td>\n",
       "      <td>0.067138</td>\n",
       "      <td>0.455947</td>\n",
       "      <td>0.393701</td>\n",
       "      <td>0.042945</td>\n",
       "      <td>0.357143</td>\n",
       "      <td>0.067743</td>\n",
       "    </tr>\n",
       "    <tr>\n",
       "      <th>998</th>\n",
       "      <td>0.493151</td>\n",
       "      <td>0.34</td>\n",
       "      <td>0.034483</td>\n",
       "      <td>0.063439</td>\n",
       "      <td>0.042254</td>\n",
       "      <td>0.014134</td>\n",
       "      <td>0.401615</td>\n",
       "      <td>0.299213</td>\n",
       "      <td>0.067485</td>\n",
       "      <td>0.125000</td>\n",
       "      <td>0.048583</td>\n",
       "    </tr>\n",
       "    <tr>\n",
       "      <th>1057</th>\n",
       "      <td>0.205479</td>\n",
       "      <td>0.25</td>\n",
       "      <td>0.206897</td>\n",
       "      <td>0.153589</td>\n",
       "      <td>0.380282</td>\n",
       "      <td>0.296820</td>\n",
       "      <td>0.570485</td>\n",
       "      <td>0.322835</td>\n",
       "      <td>0.122699</td>\n",
       "      <td>0.125000</td>\n",
       "      <td>0.359114</td>\n",
       "    </tr>\n",
       "    <tr>\n",
       "      <th>1345</th>\n",
       "      <td>0.219178</td>\n",
       "      <td>0.24</td>\n",
       "      <td>0.096552</td>\n",
       "      <td>0.085142</td>\n",
       "      <td>0.126761</td>\n",
       "      <td>0.077739</td>\n",
       "      <td>0.444934</td>\n",
       "      <td>0.401575</td>\n",
       "      <td>0.098160</td>\n",
       "      <td>0.321429</td>\n",
       "      <td>0.097564</td>\n",
       "    </tr>\n",
       "    <tr>\n",
       "      <th>635</th>\n",
       "      <td>0.493151</td>\n",
       "      <td>0.00</td>\n",
       "      <td>0.034483</td>\n",
       "      <td>0.088481</td>\n",
       "      <td>0.323944</td>\n",
       "      <td>0.095406</td>\n",
       "      <td>0.391336</td>\n",
       "      <td>0.417323</td>\n",
       "      <td>0.110429</td>\n",
       "      <td>0.232143</td>\n",
       "      <td>0.233474</td>\n",
       "    </tr>\n",
       "  </tbody>\n",
       "</table>\n",
       "<p>959 rows × 11 columns</p>\n",
       "</div>"
      ],
      "text/plain": [
       "      volatile acidity  citric acid  residual sugar  chlorides  \\\n",
       "981           0.506849         0.26        0.068966   0.111853   \n",
       "1503          0.219178         0.39        0.110345   0.108514   \n",
       "456           0.321918         0.39        0.096552   0.138564   \n",
       "611           0.178082         0.55        0.124138   0.115192   \n",
       "2             0.438356         0.04        0.096552   0.133556   \n",
       "...                ...          ...             ...        ...   \n",
       "862           0.205479         0.32        0.124138   0.091820   \n",
       "998           0.493151         0.34        0.034483   0.063439   \n",
       "1057          0.205479         0.25        0.206897   0.153589   \n",
       "1345          0.219178         0.24        0.096552   0.085142   \n",
       "635           0.493151         0.00        0.034483   0.088481   \n",
       "\n",
       "      free sulfur dioxide  total sulfur dioxide   density        pH  \\\n",
       "981              0.169014              0.077739  0.517621  0.401575   \n",
       "1503             0.070423              0.028269  0.402349  0.606299   \n",
       "456              0.056338              0.056537  0.626285  0.496063   \n",
       "611              0.056338              0.035336  0.773128  0.188976   \n",
       "2                0.197183              0.169611  0.508811  0.409449   \n",
       "...                   ...                   ...       ...       ...   \n",
       "862              0.084507              0.067138  0.455947  0.393701   \n",
       "998              0.042254              0.014134  0.401615  0.299213   \n",
       "1057             0.380282              0.296820  0.570485  0.322835   \n",
       "1345             0.126761              0.077739  0.444934  0.401575   \n",
       "635              0.323944              0.095406  0.391336  0.417323   \n",
       "\n",
       "      sulphates   alcohol      mso2  \n",
       "981    0.153374  0.285714  0.129035  \n",
       "1503   0.196319  0.464286  0.027806  \n",
       "456    0.128834  0.339286  0.032791  \n",
       "611    0.104294  0.178571  0.087467  \n",
       "2      0.171779  0.250000  0.146556  \n",
       "...         ...       ...       ...  \n",
       "862    0.042945  0.357143  0.067743  \n",
       "998    0.067485  0.125000  0.048583  \n",
       "1057   0.122699  0.125000  0.359114  \n",
       "1345   0.098160  0.321429  0.097564  \n",
       "635    0.110429  0.232143  0.233474  \n",
       "\n",
       "[959 rows x 11 columns]"
      ]
     },
     "execution_count": 78,
     "metadata": {},
     "output_type": "execute_result"
    }
   ],
   "source": [
    "train_scaled"
   ]
  },
  {
   "cell_type": "code",
   "execution_count": 87,
   "metadata": {
    "scrolled": true
   },
   "outputs": [
    {
     "ename": "ValueError",
     "evalue": "multiclass-multioutput is not supported",
     "output_type": "error",
     "traceback": [
      "\u001b[0;31m---------------------------------------------------------------------------\u001b[0m",
      "\u001b[0;31mValueError\u001b[0m                                Traceback (most recent call last)",
      "\u001b[0;32m<ipython-input-87-de9501431bc3>\u001b[0m in \u001b[0;36m<module>\u001b[0;34m\u001b[0m\n\u001b[1;32m      2\u001b[0m     \u001b[0mrf\u001b[0m\u001b[0;34m,\u001b[0m \u001b[0my_pred\u001b[0m \u001b[0;34m=\u001b[0m \u001b[0mmodel\u001b[0m\u001b[0;34m.\u001b[0m\u001b[0mrun_rf\u001b[0m\u001b[0;34m(\u001b[0m\u001b[0mtrain_scaled\u001b[0m\u001b[0;34m,\u001b[0m \u001b[0my_train\u001b[0m\u001b[0;34m,\u001b[0m \u001b[0;36m1\u001b[0m\u001b[0;34m,\u001b[0m \u001b[0mi\u001b[0m\u001b[0;34m)\u001b[0m\u001b[0;34m\u001b[0m\u001b[0;34m\u001b[0m\u001b[0m\n\u001b[1;32m      3\u001b[0m     \u001b[0my_pred\u001b[0m \u001b[0;34m=\u001b[0m \u001b[0mrf\u001b[0m\u001b[0;34m.\u001b[0m\u001b[0mpredict\u001b[0m\u001b[0;34m(\u001b[0m\u001b[0mvalidate_scaled\u001b[0m\u001b[0;34m)\u001b[0m\u001b[0;34m\u001b[0m\u001b[0;34m\u001b[0m\u001b[0m\n\u001b[0;32m----> 4\u001b[0;31m     \u001b[0maccuracy_score\u001b[0m\u001b[0;34m,\u001b[0m \u001b[0mmatrix\u001b[0m\u001b[0;34m,\u001b[0m \u001b[0mreport\u001b[0m \u001b[0;34m=\u001b[0m \u001b[0mmodel\u001b[0m\u001b[0;34m.\u001b[0m\u001b[0maccuracy_report\u001b[0m\u001b[0;34m(\u001b[0m\u001b[0mrf\u001b[0m\u001b[0;34m,\u001b[0m \u001b[0my_pred\u001b[0m\u001b[0;34m,\u001b[0m \u001b[0my_validate\u001b[0m\u001b[0;34m)\u001b[0m\u001b[0;34m\u001b[0m\u001b[0;34m\u001b[0m\u001b[0m\n\u001b[0m\u001b[1;32m      5\u001b[0m     \u001b[0mprint\u001b[0m\u001b[0;34m(\u001b[0m\u001b[0;34mf\"{i} = {report.accuracy[0]:.2f}\"\u001b[0m\u001b[0;34m)\u001b[0m\u001b[0;34m\u001b[0m\u001b[0;34m\u001b[0m\u001b[0m\n",
      "\u001b[0;32m~/codeup_data_science/ds-methodologies-exercises/practice-datasets/wine/model.py\u001b[0m in \u001b[0;36maccuracy_report\u001b[0;34m(model, y_pred, y_train)\u001b[0m\n\u001b[1;32m     71\u001b[0m     \u001b[0mMain\u001b[0m \u001b[0mfunction\u001b[0m \u001b[0mused\u001b[0m \u001b[0mto\u001b[0m \u001b[0mcreate\u001b[0m \u001b[0mprintable\u001b[0m \u001b[0mversions\u001b[0m \u001b[0mof\u001b[0m \u001b[0mthe\u001b[0m \u001b[0mclassification\u001b[0m \u001b[0maccuracy\u001b[0m \u001b[0mscore\u001b[0m\u001b[0;34m,\u001b[0m \u001b[0mconfusion\u001b[0m \u001b[0mmatrix\u001b[0m \u001b[0;32mand\u001b[0m \u001b[0mclassification\u001b[0m \u001b[0mreport\u001b[0m\u001b[0;34m.\u001b[0m\u001b[0;34m\u001b[0m\u001b[0;34m\u001b[0m\u001b[0m\n\u001b[1;32m     72\u001b[0m     '''\n\u001b[0;32m---> 73\u001b[0;31m     \u001b[0mreport\u001b[0m \u001b[0;34m=\u001b[0m \u001b[0mclassification_report\u001b[0m\u001b[0;34m(\u001b[0m\u001b[0my_train\u001b[0m\u001b[0;34m,\u001b[0m \u001b[0my_pred\u001b[0m\u001b[0;34m,\u001b[0m \u001b[0moutput_dict\u001b[0m \u001b[0;34m=\u001b[0m \u001b[0;32mTrue\u001b[0m\u001b[0;34m)\u001b[0m\u001b[0;34m\u001b[0m\u001b[0;34m\u001b[0m\u001b[0m\n\u001b[0m\u001b[1;32m     74\u001b[0m     \u001b[0mreport\u001b[0m \u001b[0;34m=\u001b[0m \u001b[0mpd\u001b[0m\u001b[0;34m.\u001b[0m\u001b[0mDataFrame\u001b[0m\u001b[0;34m.\u001b[0m\u001b[0mfrom_dict\u001b[0m\u001b[0;34m(\u001b[0m\u001b[0mreport\u001b[0m\u001b[0;34m)\u001b[0m\u001b[0;34m\u001b[0m\u001b[0;34m\u001b[0m\u001b[0m\n\u001b[1;32m     75\u001b[0m     \u001b[0maccuracy_score\u001b[0m \u001b[0;34m=\u001b[0m \u001b[0;34mf'Accuracy on dataset: {report.accuracy[0]:.2f}'\u001b[0m\u001b[0;34m\u001b[0m\u001b[0;34m\u001b[0m\u001b[0m\n",
      "\u001b[0;32m/usr/local/anaconda3/lib/python3.7/site-packages/sklearn/metrics/_classification.py\u001b[0m in \u001b[0;36mclassification_report\u001b[0;34m(y_true, y_pred, labels, target_names, sample_weight, digits, output_dict, zero_division)\u001b[0m\n\u001b[1;32m   1969\u001b[0m     \"\"\"\n\u001b[1;32m   1970\u001b[0m \u001b[0;34m\u001b[0m\u001b[0m\n\u001b[0;32m-> 1971\u001b[0;31m     \u001b[0my_type\u001b[0m\u001b[0;34m,\u001b[0m \u001b[0my_true\u001b[0m\u001b[0;34m,\u001b[0m \u001b[0my_pred\u001b[0m \u001b[0;34m=\u001b[0m \u001b[0m_check_targets\u001b[0m\u001b[0;34m(\u001b[0m\u001b[0my_true\u001b[0m\u001b[0;34m,\u001b[0m \u001b[0my_pred\u001b[0m\u001b[0;34m)\u001b[0m\u001b[0;34m\u001b[0m\u001b[0;34m\u001b[0m\u001b[0m\n\u001b[0m\u001b[1;32m   1972\u001b[0m \u001b[0;34m\u001b[0m\u001b[0m\n\u001b[1;32m   1973\u001b[0m     \u001b[0mlabels_given\u001b[0m \u001b[0;34m=\u001b[0m \u001b[0;32mTrue\u001b[0m\u001b[0;34m\u001b[0m\u001b[0;34m\u001b[0m\u001b[0m\n",
      "\u001b[0;32m/usr/local/anaconda3/lib/python3.7/site-packages/sklearn/metrics/_classification.py\u001b[0m in \u001b[0;36m_check_targets\u001b[0;34m(y_true, y_pred)\u001b[0m\n\u001b[1;32m     95\u001b[0m     \u001b[0;31m# No metrics support \"multiclass-multioutput\" format\u001b[0m\u001b[0;34m\u001b[0m\u001b[0;34m\u001b[0m\u001b[0;34m\u001b[0m\u001b[0m\n\u001b[1;32m     96\u001b[0m     \u001b[0;32mif\u001b[0m \u001b[0;34m(\u001b[0m\u001b[0my_type\u001b[0m \u001b[0;32mnot\u001b[0m \u001b[0;32min\u001b[0m \u001b[0;34m[\u001b[0m\u001b[0;34m\"binary\"\u001b[0m\u001b[0;34m,\u001b[0m \u001b[0;34m\"multiclass\"\u001b[0m\u001b[0;34m,\u001b[0m \u001b[0;34m\"multilabel-indicator\"\u001b[0m\u001b[0;34m]\u001b[0m\u001b[0;34m)\u001b[0m\u001b[0;34m:\u001b[0m\u001b[0;34m\u001b[0m\u001b[0;34m\u001b[0m\u001b[0m\n\u001b[0;32m---> 97\u001b[0;31m         \u001b[0;32mraise\u001b[0m \u001b[0mValueError\u001b[0m\u001b[0;34m(\u001b[0m\u001b[0;34m\"{0} is not supported\"\u001b[0m\u001b[0;34m.\u001b[0m\u001b[0mformat\u001b[0m\u001b[0;34m(\u001b[0m\u001b[0my_type\u001b[0m\u001b[0;34m)\u001b[0m\u001b[0;34m)\u001b[0m\u001b[0;34m\u001b[0m\u001b[0;34m\u001b[0m\u001b[0m\n\u001b[0m\u001b[1;32m     98\u001b[0m \u001b[0;34m\u001b[0m\u001b[0m\n\u001b[1;32m     99\u001b[0m     \u001b[0;32mif\u001b[0m \u001b[0my_type\u001b[0m \u001b[0;32min\u001b[0m \u001b[0;34m[\u001b[0m\u001b[0;34m\"binary\"\u001b[0m\u001b[0;34m,\u001b[0m \u001b[0;34m\"multiclass\"\u001b[0m\u001b[0;34m]\u001b[0m\u001b[0;34m:\u001b[0m\u001b[0;34m\u001b[0m\u001b[0;34m\u001b[0m\u001b[0m\n",
      "\u001b[0;31mValueError\u001b[0m: multiclass-multioutput is not supported"
     ]
    }
   ],
   "source": [
    "for i in range(1,25):\n",
    "    rf, y_pred = model.run_rf(train_scaled, y_train, 1, i)\n",
    "    y_pred = rf.predict(validate_scaled)\n",
    "    accuracy_score, matrix, report = model.accuracy_report(rf, y_pred, y_validate)\n",
    "    print(f\"{i} = {report.accuracy[0]:.2f}\")"
   ]
  },
  {
   "cell_type": "code",
   "execution_count": 81,
   "metadata": {},
   "outputs": [],
   "source": [
    "# acquire and prep\n",
    "train_scaled, y_train, validate_scaled, y_validate, test_scaled, y_test = get_data_for_modeling_3()\n",
    "y_train_1 = y_train.value\n",
    "y_validate_1 = y_validate.value"
   ]
  },
  {
   "cell_type": "code",
   "execution_count": 88,
   "metadata": {
    "scrolled": true
   },
   "outputs": [],
   "source": [
    "rf, y_pred = model.run_rf(train_scaled, y_train_1, 1, 13)\n",
    "train_scaled[\"value\"] = y_pred"
   ]
  },
  {
   "cell_type": "code",
   "execution_count": 89,
   "metadata": {},
   "outputs": [
    {
     "name": "stdout",
     "output_type": "stream",
     "text": [
      "Accuracy on dataset: 0.99\n",
      "    0    1    2\n",
      "0  30    3    0\n",
      "1   0  792    0\n",
      "2   0    5  129\n"
     ]
    },
    {
     "data": {
      "text/html": [
       "<div>\n",
       "<style scoped>\n",
       "    .dataframe tbody tr th:only-of-type {\n",
       "        vertical-align: middle;\n",
       "    }\n",
       "\n",
       "    .dataframe tbody tr th {\n",
       "        vertical-align: top;\n",
       "    }\n",
       "\n",
       "    .dataframe thead th {\n",
       "        text-align: right;\n",
       "    }\n",
       "</style>\n",
       "<table border=\"1\" class=\"dataframe\">\n",
       "  <thead>\n",
       "    <tr style=\"text-align: right;\">\n",
       "      <th></th>\n",
       "      <th>0</th>\n",
       "      <th>1</th>\n",
       "      <th>2</th>\n",
       "      <th>accuracy</th>\n",
       "      <th>macro avg</th>\n",
       "      <th>weighted avg</th>\n",
       "    </tr>\n",
       "  </thead>\n",
       "  <tbody>\n",
       "    <tr>\n",
       "      <th>precision</th>\n",
       "      <td>1.000000</td>\n",
       "      <td>0.990000</td>\n",
       "      <td>1.000000</td>\n",
       "      <td>0.991658</td>\n",
       "      <td>0.996667</td>\n",
       "      <td>0.991741</td>\n",
       "    </tr>\n",
       "    <tr>\n",
       "      <th>recall</th>\n",
       "      <td>0.909091</td>\n",
       "      <td>1.000000</td>\n",
       "      <td>0.962687</td>\n",
       "      <td>0.991658</td>\n",
       "      <td>0.957259</td>\n",
       "      <td>0.991658</td>\n",
       "    </tr>\n",
       "    <tr>\n",
       "      <th>f1-score</th>\n",
       "      <td>0.952381</td>\n",
       "      <td>0.994975</td>\n",
       "      <td>0.980989</td>\n",
       "      <td>0.991658</td>\n",
       "      <td>0.976115</td>\n",
       "      <td>0.991555</td>\n",
       "    </tr>\n",
       "    <tr>\n",
       "      <th>support</th>\n",
       "      <td>33.000000</td>\n",
       "      <td>792.000000</td>\n",
       "      <td>134.000000</td>\n",
       "      <td>0.991658</td>\n",
       "      <td>959.000000</td>\n",
       "      <td>959.000000</td>\n",
       "    </tr>\n",
       "  </tbody>\n",
       "</table>\n",
       "</div>"
      ],
      "text/plain": [
       "                   0           1           2  accuracy   macro avg  \\\n",
       "precision   1.000000    0.990000    1.000000  0.991658    0.996667   \n",
       "recall      0.909091    1.000000    0.962687  0.991658    0.957259   \n",
       "f1-score    0.952381    0.994975    0.980989  0.991658    0.976115   \n",
       "support    33.000000  792.000000  134.000000  0.991658  959.000000   \n",
       "\n",
       "           weighted avg  \n",
       "precision      0.991741  \n",
       "recall         0.991658  \n",
       "f1-score       0.991555  \n",
       "support      959.000000  "
      ]
     },
     "execution_count": 89,
     "metadata": {},
     "output_type": "execute_result"
    }
   ],
   "source": [
    "accuracy_score, matrix, report = model.accuracy_report(rf, y_pred, y_train_1)\n",
    "print(accuracy_score)\n",
    "print(matrix)\n",
    "report"
   ]
  },
  {
   "cell_type": "code",
   "execution_count": 90,
   "metadata": {
    "scrolled": true
   },
   "outputs": [
    {
     "ename": "ValueError",
     "evalue": "Number of labels=33 does not match number of samples=30",
     "output_type": "error",
     "traceback": [
      "\u001b[0;31m---------------------------------------------------------------------------\u001b[0m",
      "\u001b[0;31mValueError\u001b[0m                                Traceback (most recent call last)",
      "\u001b[0;32m<ipython-input-90-dc2a4674f17f>\u001b[0m in \u001b[0;36m<module>\u001b[0;34m\u001b[0m\n\u001b[1;32m      5\u001b[0m \u001b[0;34m\u001b[0m\u001b[0m\n\u001b[1;32m      6\u001b[0m \u001b[0;34m\u001b[0m\u001b[0m\n\u001b[0;32m----> 7\u001b[0;31m \u001b[0mrf\u001b[0m\u001b[0;34m,\u001b[0m \u001b[0my_pred\u001b[0m \u001b[0;34m=\u001b[0m \u001b[0mmodel\u001b[0m\u001b[0;34m.\u001b[0m\u001b[0mrun_rf\u001b[0m\u001b[0;34m(\u001b[0m\u001b[0mtrain_scaled_0\u001b[0m\u001b[0;34m,\u001b[0m \u001b[0my_train_0\u001b[0m\u001b[0;34m,\u001b[0m \u001b[0;36m1\u001b[0m\u001b[0;34m,\u001b[0m \u001b[0;36m9\u001b[0m\u001b[0;34m)\u001b[0m\u001b[0;34m\u001b[0m\u001b[0;34m\u001b[0m\u001b[0m\n\u001b[0m",
      "\u001b[0;32m~/codeup_data_science/ds-methodologies-exercises/practice-datasets/wine/model.py\u001b[0m in \u001b[0;36mrun_rf\u001b[0;34m(X_train, y_train, leaf, max_depth)\u001b[0m\n\u001b[1;32m     44\u001b[0m     \u001b[0mFunction\u001b[0m \u001b[0mused\u001b[0m \u001b[0mto\u001b[0m \u001b[0mcreate\u001b[0m \u001b[0;32mand\u001b[0m \u001b[0mfit\u001b[0m \u001b[0mrandom\u001b[0m \u001b[0mforest\u001b[0m \u001b[0mmodels\u001b[0m\u001b[0;34m.\u001b[0m \u001b[0mRequires\u001b[0m \u001b[0mto\u001b[0m \u001b[0mspecif\u001b[0m \u001b[0mleaf\u001b[0m \u001b[0;32mand\u001b[0m \u001b[0mmax_depth\u001b[0m\u001b[0;34m.\u001b[0m \u001b[0mReturns\u001b[0m \u001b[0mmodel\u001b[0m \u001b[0;32mand\u001b[0m \u001b[0mpredictions\u001b[0m\u001b[0;34m.\u001b[0m\u001b[0;34m\u001b[0m\u001b[0;34m\u001b[0m\u001b[0m\n\u001b[1;32m     45\u001b[0m     '''\n\u001b[0;32m---> 46\u001b[0;31m     \u001b[0mrf\u001b[0m \u001b[0;34m=\u001b[0m \u001b[0mRandomForestClassifier\u001b[0m\u001b[0;34m(\u001b[0m\u001b[0mrandom_state\u001b[0m\u001b[0;34m=\u001b[0m \u001b[0;36m123\u001b[0m\u001b[0;34m,\u001b[0m \u001b[0mmin_samples_leaf\u001b[0m \u001b[0;34m=\u001b[0m \u001b[0mleaf\u001b[0m\u001b[0;34m,\u001b[0m \u001b[0mmax_depth\u001b[0m \u001b[0;34m=\u001b[0m \u001b[0mmax_depth\u001b[0m\u001b[0;34m)\u001b[0m\u001b[0;34m.\u001b[0m\u001b[0mfit\u001b[0m\u001b[0;34m(\u001b[0m\u001b[0mX_train\u001b[0m\u001b[0;34m,\u001b[0m \u001b[0my_train\u001b[0m\u001b[0;34m)\u001b[0m\u001b[0;34m\u001b[0m\u001b[0;34m\u001b[0m\u001b[0m\n\u001b[0m\u001b[1;32m     47\u001b[0m     \u001b[0my_pred\u001b[0m \u001b[0;34m=\u001b[0m \u001b[0mrf\u001b[0m\u001b[0;34m.\u001b[0m\u001b[0mpredict\u001b[0m\u001b[0;34m(\u001b[0m\u001b[0mX_train\u001b[0m\u001b[0;34m)\u001b[0m\u001b[0;34m\u001b[0m\u001b[0;34m\u001b[0m\u001b[0m\n\u001b[1;32m     48\u001b[0m     \u001b[0;32mreturn\u001b[0m \u001b[0mrf\u001b[0m\u001b[0;34m,\u001b[0m \u001b[0my_pred\u001b[0m\u001b[0;34m\u001b[0m\u001b[0;34m\u001b[0m\u001b[0m\n",
      "\u001b[0;32m/usr/local/anaconda3/lib/python3.7/site-packages/sklearn/ensemble/_forest.py\u001b[0m in \u001b[0;36mfit\u001b[0;34m(self, X, y, sample_weight)\u001b[0m\n\u001b[1;32m    381\u001b[0m                     \u001b[0mverbose\u001b[0m\u001b[0;34m=\u001b[0m\u001b[0mself\u001b[0m\u001b[0;34m.\u001b[0m\u001b[0mverbose\u001b[0m\u001b[0;34m,\u001b[0m \u001b[0mclass_weight\u001b[0m\u001b[0;34m=\u001b[0m\u001b[0mself\u001b[0m\u001b[0;34m.\u001b[0m\u001b[0mclass_weight\u001b[0m\u001b[0;34m,\u001b[0m\u001b[0;34m\u001b[0m\u001b[0;34m\u001b[0m\u001b[0m\n\u001b[1;32m    382\u001b[0m                     n_samples_bootstrap=n_samples_bootstrap)\n\u001b[0;32m--> 383\u001b[0;31m                 for i, t in enumerate(trees))\n\u001b[0m\u001b[1;32m    384\u001b[0m \u001b[0;34m\u001b[0m\u001b[0m\n\u001b[1;32m    385\u001b[0m             \u001b[0;31m# Collect newly grown trees\u001b[0m\u001b[0;34m\u001b[0m\u001b[0;34m\u001b[0m\u001b[0;34m\u001b[0m\u001b[0m\n",
      "\u001b[0;32m/usr/local/anaconda3/lib/python3.7/site-packages/joblib/parallel.py\u001b[0m in \u001b[0;36m__call__\u001b[0;34m(self, iterable)\u001b[0m\n\u001b[1;32m   1002\u001b[0m             \u001b[0;31m# remaining jobs.\u001b[0m\u001b[0;34m\u001b[0m\u001b[0;34m\u001b[0m\u001b[0;34m\u001b[0m\u001b[0m\n\u001b[1;32m   1003\u001b[0m             \u001b[0mself\u001b[0m\u001b[0;34m.\u001b[0m\u001b[0m_iterating\u001b[0m \u001b[0;34m=\u001b[0m \u001b[0;32mFalse\u001b[0m\u001b[0;34m\u001b[0m\u001b[0;34m\u001b[0m\u001b[0m\n\u001b[0;32m-> 1004\u001b[0;31m             \u001b[0;32mif\u001b[0m \u001b[0mself\u001b[0m\u001b[0;34m.\u001b[0m\u001b[0mdispatch_one_batch\u001b[0m\u001b[0;34m(\u001b[0m\u001b[0miterator\u001b[0m\u001b[0;34m)\u001b[0m\u001b[0;34m:\u001b[0m\u001b[0;34m\u001b[0m\u001b[0;34m\u001b[0m\u001b[0m\n\u001b[0m\u001b[1;32m   1005\u001b[0m                 \u001b[0mself\u001b[0m\u001b[0;34m.\u001b[0m\u001b[0m_iterating\u001b[0m \u001b[0;34m=\u001b[0m \u001b[0mself\u001b[0m\u001b[0;34m.\u001b[0m\u001b[0m_original_iterator\u001b[0m \u001b[0;32mis\u001b[0m \u001b[0;32mnot\u001b[0m \u001b[0;32mNone\u001b[0m\u001b[0;34m\u001b[0m\u001b[0;34m\u001b[0m\u001b[0m\n\u001b[1;32m   1006\u001b[0m \u001b[0;34m\u001b[0m\u001b[0m\n",
      "\u001b[0;32m/usr/local/anaconda3/lib/python3.7/site-packages/joblib/parallel.py\u001b[0m in \u001b[0;36mdispatch_one_batch\u001b[0;34m(self, iterator)\u001b[0m\n\u001b[1;32m    833\u001b[0m                 \u001b[0;32mreturn\u001b[0m \u001b[0;32mFalse\u001b[0m\u001b[0;34m\u001b[0m\u001b[0;34m\u001b[0m\u001b[0m\n\u001b[1;32m    834\u001b[0m             \u001b[0;32melse\u001b[0m\u001b[0;34m:\u001b[0m\u001b[0;34m\u001b[0m\u001b[0;34m\u001b[0m\u001b[0m\n\u001b[0;32m--> 835\u001b[0;31m                 \u001b[0mself\u001b[0m\u001b[0;34m.\u001b[0m\u001b[0m_dispatch\u001b[0m\u001b[0;34m(\u001b[0m\u001b[0mtasks\u001b[0m\u001b[0;34m)\u001b[0m\u001b[0;34m\u001b[0m\u001b[0;34m\u001b[0m\u001b[0m\n\u001b[0m\u001b[1;32m    836\u001b[0m                 \u001b[0;32mreturn\u001b[0m \u001b[0;32mTrue\u001b[0m\u001b[0;34m\u001b[0m\u001b[0;34m\u001b[0m\u001b[0m\n\u001b[1;32m    837\u001b[0m \u001b[0;34m\u001b[0m\u001b[0m\n",
      "\u001b[0;32m/usr/local/anaconda3/lib/python3.7/site-packages/joblib/parallel.py\u001b[0m in \u001b[0;36m_dispatch\u001b[0;34m(self, batch)\u001b[0m\n\u001b[1;32m    752\u001b[0m         \u001b[0;32mwith\u001b[0m \u001b[0mself\u001b[0m\u001b[0;34m.\u001b[0m\u001b[0m_lock\u001b[0m\u001b[0;34m:\u001b[0m\u001b[0;34m\u001b[0m\u001b[0;34m\u001b[0m\u001b[0m\n\u001b[1;32m    753\u001b[0m             \u001b[0mjob_idx\u001b[0m \u001b[0;34m=\u001b[0m \u001b[0mlen\u001b[0m\u001b[0;34m(\u001b[0m\u001b[0mself\u001b[0m\u001b[0;34m.\u001b[0m\u001b[0m_jobs\u001b[0m\u001b[0;34m)\u001b[0m\u001b[0;34m\u001b[0m\u001b[0;34m\u001b[0m\u001b[0m\n\u001b[0;32m--> 754\u001b[0;31m             \u001b[0mjob\u001b[0m \u001b[0;34m=\u001b[0m \u001b[0mself\u001b[0m\u001b[0;34m.\u001b[0m\u001b[0m_backend\u001b[0m\u001b[0;34m.\u001b[0m\u001b[0mapply_async\u001b[0m\u001b[0;34m(\u001b[0m\u001b[0mbatch\u001b[0m\u001b[0;34m,\u001b[0m \u001b[0mcallback\u001b[0m\u001b[0;34m=\u001b[0m\u001b[0mcb\u001b[0m\u001b[0;34m)\u001b[0m\u001b[0;34m\u001b[0m\u001b[0;34m\u001b[0m\u001b[0m\n\u001b[0m\u001b[1;32m    755\u001b[0m             \u001b[0;31m# A job can complete so quickly than its callback is\u001b[0m\u001b[0;34m\u001b[0m\u001b[0;34m\u001b[0m\u001b[0;34m\u001b[0m\u001b[0m\n\u001b[1;32m    756\u001b[0m             \u001b[0;31m# called before we get here, causing self._jobs to\u001b[0m\u001b[0;34m\u001b[0m\u001b[0;34m\u001b[0m\u001b[0;34m\u001b[0m\u001b[0m\n",
      "\u001b[0;32m/usr/local/anaconda3/lib/python3.7/site-packages/joblib/_parallel_backends.py\u001b[0m in \u001b[0;36mapply_async\u001b[0;34m(self, func, callback)\u001b[0m\n\u001b[1;32m    207\u001b[0m     \u001b[0;32mdef\u001b[0m \u001b[0mapply_async\u001b[0m\u001b[0;34m(\u001b[0m\u001b[0mself\u001b[0m\u001b[0;34m,\u001b[0m \u001b[0mfunc\u001b[0m\u001b[0;34m,\u001b[0m \u001b[0mcallback\u001b[0m\u001b[0;34m=\u001b[0m\u001b[0;32mNone\u001b[0m\u001b[0;34m)\u001b[0m\u001b[0;34m:\u001b[0m\u001b[0;34m\u001b[0m\u001b[0;34m\u001b[0m\u001b[0m\n\u001b[1;32m    208\u001b[0m         \u001b[0;34m\"\"\"Schedule a func to be run\"\"\"\u001b[0m\u001b[0;34m\u001b[0m\u001b[0;34m\u001b[0m\u001b[0m\n\u001b[0;32m--> 209\u001b[0;31m         \u001b[0mresult\u001b[0m \u001b[0;34m=\u001b[0m \u001b[0mImmediateResult\u001b[0m\u001b[0;34m(\u001b[0m\u001b[0mfunc\u001b[0m\u001b[0;34m)\u001b[0m\u001b[0;34m\u001b[0m\u001b[0;34m\u001b[0m\u001b[0m\n\u001b[0m\u001b[1;32m    210\u001b[0m         \u001b[0;32mif\u001b[0m \u001b[0mcallback\u001b[0m\u001b[0;34m:\u001b[0m\u001b[0;34m\u001b[0m\u001b[0;34m\u001b[0m\u001b[0m\n\u001b[1;32m    211\u001b[0m             \u001b[0mcallback\u001b[0m\u001b[0;34m(\u001b[0m\u001b[0mresult\u001b[0m\u001b[0;34m)\u001b[0m\u001b[0;34m\u001b[0m\u001b[0;34m\u001b[0m\u001b[0m\n",
      "\u001b[0;32m/usr/local/anaconda3/lib/python3.7/site-packages/joblib/_parallel_backends.py\u001b[0m in \u001b[0;36m__init__\u001b[0;34m(self, batch)\u001b[0m\n\u001b[1;32m    588\u001b[0m         \u001b[0;31m# Don't delay the application, to avoid keeping the input\u001b[0m\u001b[0;34m\u001b[0m\u001b[0;34m\u001b[0m\u001b[0;34m\u001b[0m\u001b[0m\n\u001b[1;32m    589\u001b[0m         \u001b[0;31m# arguments in memory\u001b[0m\u001b[0;34m\u001b[0m\u001b[0;34m\u001b[0m\u001b[0;34m\u001b[0m\u001b[0m\n\u001b[0;32m--> 590\u001b[0;31m         \u001b[0mself\u001b[0m\u001b[0;34m.\u001b[0m\u001b[0mresults\u001b[0m \u001b[0;34m=\u001b[0m \u001b[0mbatch\u001b[0m\u001b[0;34m(\u001b[0m\u001b[0;34m)\u001b[0m\u001b[0;34m\u001b[0m\u001b[0;34m\u001b[0m\u001b[0m\n\u001b[0m\u001b[1;32m    591\u001b[0m \u001b[0;34m\u001b[0m\u001b[0m\n\u001b[1;32m    592\u001b[0m     \u001b[0;32mdef\u001b[0m \u001b[0mget\u001b[0m\u001b[0;34m(\u001b[0m\u001b[0mself\u001b[0m\u001b[0;34m)\u001b[0m\u001b[0;34m:\u001b[0m\u001b[0;34m\u001b[0m\u001b[0;34m\u001b[0m\u001b[0m\n",
      "\u001b[0;32m/usr/local/anaconda3/lib/python3.7/site-packages/joblib/parallel.py\u001b[0m in \u001b[0;36m__call__\u001b[0;34m(self)\u001b[0m\n\u001b[1;32m    254\u001b[0m         \u001b[0;32mwith\u001b[0m \u001b[0mparallel_backend\u001b[0m\u001b[0;34m(\u001b[0m\u001b[0mself\u001b[0m\u001b[0;34m.\u001b[0m\u001b[0m_backend\u001b[0m\u001b[0;34m,\u001b[0m \u001b[0mn_jobs\u001b[0m\u001b[0;34m=\u001b[0m\u001b[0mself\u001b[0m\u001b[0;34m.\u001b[0m\u001b[0m_n_jobs\u001b[0m\u001b[0;34m)\u001b[0m\u001b[0;34m:\u001b[0m\u001b[0;34m\u001b[0m\u001b[0;34m\u001b[0m\u001b[0m\n\u001b[1;32m    255\u001b[0m             return [func(*args, **kwargs)\n\u001b[0;32m--> 256\u001b[0;31m                     for func, args, kwargs in self.items]\n\u001b[0m\u001b[1;32m    257\u001b[0m \u001b[0;34m\u001b[0m\u001b[0m\n\u001b[1;32m    258\u001b[0m     \u001b[0;32mdef\u001b[0m \u001b[0m__len__\u001b[0m\u001b[0;34m(\u001b[0m\u001b[0mself\u001b[0m\u001b[0;34m)\u001b[0m\u001b[0;34m:\u001b[0m\u001b[0;34m\u001b[0m\u001b[0;34m\u001b[0m\u001b[0m\n",
      "\u001b[0;32m/usr/local/anaconda3/lib/python3.7/site-packages/joblib/parallel.py\u001b[0m in \u001b[0;36m<listcomp>\u001b[0;34m(.0)\u001b[0m\n\u001b[1;32m    254\u001b[0m         \u001b[0;32mwith\u001b[0m \u001b[0mparallel_backend\u001b[0m\u001b[0;34m(\u001b[0m\u001b[0mself\u001b[0m\u001b[0;34m.\u001b[0m\u001b[0m_backend\u001b[0m\u001b[0;34m,\u001b[0m \u001b[0mn_jobs\u001b[0m\u001b[0;34m=\u001b[0m\u001b[0mself\u001b[0m\u001b[0;34m.\u001b[0m\u001b[0m_n_jobs\u001b[0m\u001b[0;34m)\u001b[0m\u001b[0;34m:\u001b[0m\u001b[0;34m\u001b[0m\u001b[0;34m\u001b[0m\u001b[0m\n\u001b[1;32m    255\u001b[0m             return [func(*args, **kwargs)\n\u001b[0;32m--> 256\u001b[0;31m                     for func, args, kwargs in self.items]\n\u001b[0m\u001b[1;32m    257\u001b[0m \u001b[0;34m\u001b[0m\u001b[0m\n\u001b[1;32m    258\u001b[0m     \u001b[0;32mdef\u001b[0m \u001b[0m__len__\u001b[0m\u001b[0;34m(\u001b[0m\u001b[0mself\u001b[0m\u001b[0;34m)\u001b[0m\u001b[0;34m:\u001b[0m\u001b[0;34m\u001b[0m\u001b[0;34m\u001b[0m\u001b[0m\n",
      "\u001b[0;32m/usr/local/anaconda3/lib/python3.7/site-packages/sklearn/ensemble/_forest.py\u001b[0m in \u001b[0;36m_parallel_build_trees\u001b[0;34m(tree, forest, X, y, sample_weight, tree_idx, n_trees, verbose, class_weight, n_samples_bootstrap)\u001b[0m\n\u001b[1;32m    163\u001b[0m             \u001b[0mcurr_sample_weight\u001b[0m \u001b[0;34m*=\u001b[0m \u001b[0mcompute_sample_weight\u001b[0m\u001b[0;34m(\u001b[0m\u001b[0;34m'balanced'\u001b[0m\u001b[0;34m,\u001b[0m \u001b[0my\u001b[0m\u001b[0;34m,\u001b[0m \u001b[0mindices\u001b[0m\u001b[0;34m)\u001b[0m\u001b[0;34m\u001b[0m\u001b[0;34m\u001b[0m\u001b[0m\n\u001b[1;32m    164\u001b[0m \u001b[0;34m\u001b[0m\u001b[0m\n\u001b[0;32m--> 165\u001b[0;31m         \u001b[0mtree\u001b[0m\u001b[0;34m.\u001b[0m\u001b[0mfit\u001b[0m\u001b[0;34m(\u001b[0m\u001b[0mX\u001b[0m\u001b[0;34m,\u001b[0m \u001b[0my\u001b[0m\u001b[0;34m,\u001b[0m \u001b[0msample_weight\u001b[0m\u001b[0;34m=\u001b[0m\u001b[0mcurr_sample_weight\u001b[0m\u001b[0;34m,\u001b[0m \u001b[0mcheck_input\u001b[0m\u001b[0;34m=\u001b[0m\u001b[0;32mFalse\u001b[0m\u001b[0;34m)\u001b[0m\u001b[0;34m\u001b[0m\u001b[0;34m\u001b[0m\u001b[0m\n\u001b[0m\u001b[1;32m    166\u001b[0m     \u001b[0;32melse\u001b[0m\u001b[0;34m:\u001b[0m\u001b[0;34m\u001b[0m\u001b[0;34m\u001b[0m\u001b[0m\n\u001b[1;32m    167\u001b[0m         \u001b[0mtree\u001b[0m\u001b[0;34m.\u001b[0m\u001b[0mfit\u001b[0m\u001b[0;34m(\u001b[0m\u001b[0mX\u001b[0m\u001b[0;34m,\u001b[0m \u001b[0my\u001b[0m\u001b[0;34m,\u001b[0m \u001b[0msample_weight\u001b[0m\u001b[0;34m=\u001b[0m\u001b[0msample_weight\u001b[0m\u001b[0;34m,\u001b[0m \u001b[0mcheck_input\u001b[0m\u001b[0;34m=\u001b[0m\u001b[0;32mFalse\u001b[0m\u001b[0;34m)\u001b[0m\u001b[0;34m\u001b[0m\u001b[0;34m\u001b[0m\u001b[0m\n",
      "\u001b[0;32m/usr/local/anaconda3/lib/python3.7/site-packages/sklearn/tree/_classes.py\u001b[0m in \u001b[0;36mfit\u001b[0;34m(self, X, y, sample_weight, check_input, X_idx_sorted)\u001b[0m\n\u001b[1;32m    875\u001b[0m             \u001b[0msample_weight\u001b[0m\u001b[0;34m=\u001b[0m\u001b[0msample_weight\u001b[0m\u001b[0;34m,\u001b[0m\u001b[0;34m\u001b[0m\u001b[0;34m\u001b[0m\u001b[0m\n\u001b[1;32m    876\u001b[0m             \u001b[0mcheck_input\u001b[0m\u001b[0;34m=\u001b[0m\u001b[0mcheck_input\u001b[0m\u001b[0;34m,\u001b[0m\u001b[0;34m\u001b[0m\u001b[0;34m\u001b[0m\u001b[0m\n\u001b[0;32m--> 877\u001b[0;31m             X_idx_sorted=X_idx_sorted)\n\u001b[0m\u001b[1;32m    878\u001b[0m         \u001b[0;32mreturn\u001b[0m \u001b[0mself\u001b[0m\u001b[0;34m\u001b[0m\u001b[0;34m\u001b[0m\u001b[0m\n\u001b[1;32m    879\u001b[0m \u001b[0;34m\u001b[0m\u001b[0m\n",
      "\u001b[0;32m/usr/local/anaconda3/lib/python3.7/site-packages/sklearn/tree/_classes.py\u001b[0m in \u001b[0;36mfit\u001b[0;34m(self, X, y, sample_weight, check_input, X_idx_sorted)\u001b[0m\n\u001b[1;32m    263\u001b[0m         \u001b[0;32mif\u001b[0m \u001b[0mlen\u001b[0m\u001b[0;34m(\u001b[0m\u001b[0my\u001b[0m\u001b[0;34m)\u001b[0m \u001b[0;34m!=\u001b[0m \u001b[0mn_samples\u001b[0m\u001b[0;34m:\u001b[0m\u001b[0;34m\u001b[0m\u001b[0;34m\u001b[0m\u001b[0m\n\u001b[1;32m    264\u001b[0m             raise ValueError(\"Number of labels=%d does not match \"\n\u001b[0;32m--> 265\u001b[0;31m                              \"number of samples=%d\" % (len(y), n_samples))\n\u001b[0m\u001b[1;32m    266\u001b[0m         \u001b[0;32mif\u001b[0m \u001b[0;32mnot\u001b[0m \u001b[0;36m0\u001b[0m \u001b[0;34m<=\u001b[0m \u001b[0mself\u001b[0m\u001b[0;34m.\u001b[0m\u001b[0mmin_weight_fraction_leaf\u001b[0m \u001b[0;34m<=\u001b[0m \u001b[0;36m0.5\u001b[0m\u001b[0;34m:\u001b[0m\u001b[0;34m\u001b[0m\u001b[0;34m\u001b[0m\u001b[0m\n\u001b[1;32m    267\u001b[0m             \u001b[0;32mraise\u001b[0m \u001b[0mValueError\u001b[0m\u001b[0;34m(\u001b[0m\u001b[0;34m\"min_weight_fraction_leaf must in [0, 0.5]\"\u001b[0m\u001b[0;34m)\u001b[0m\u001b[0;34m\u001b[0m\u001b[0;34m\u001b[0m\u001b[0m\n",
      "\u001b[0;31mValueError\u001b[0m: Number of labels=33 does not match number of samples=30"
     ]
    }
   ],
   "source": [
    "# We will start with value == 0\n",
    "train_scaled_0 = train_scaled[train_scaled.value == 0]\n",
    "y_train_0 = y_train[y_train.value == 0].quality\n",
    "train_scaled_0.drop(columns=\"value\", inplace=True)\n",
    "\n",
    "\n",
    "rf, y_pred = model.run_rf(train_scaled_0, y_train_0, 1, 9)\n"
   ]
  },
  {
   "cell_type": "markdown",
   "metadata": {},
   "source": [
    "# Conclusion"
   ]
  }
 ],
 "metadata": {
  "kernelspec": {
   "display_name": "Python 3",
   "language": "python",
   "name": "python3"
  },
  "language_info": {
   "codemirror_mode": {
    "name": "ipython",
    "version": 3
   },
   "file_extension": ".py",
   "mimetype": "text/x-python",
   "name": "python",
   "nbconvert_exporter": "python",
   "pygments_lexer": "ipython3",
   "version": "3.7.4"
  }
 },
 "nbformat": 4,
 "nbformat_minor": 2
}
